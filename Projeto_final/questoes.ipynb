{
 "cells": [
  {
   "cell_type": "code",
   "execution_count": 2,
   "metadata": {},
   "outputs": [
    {
     "name": "stdout",
     "output_type": "stream",
     "text": [
      "Index(['Restaurant ID', 'Restaurant Name', 'Country Code', 'City', 'Address',\n",
      "       'Locality', 'Locality Verbose', 'Longitude', 'Latitude', 'Cuisines',\n",
      "       'Average Cost for two', 'Currency', 'Has Table booking',\n",
      "       'Has Online delivery', 'Is delivering now', 'Switch to order menu',\n",
      "       'Price range', 'Aggregate rating', 'Rating color', 'Rating text',\n",
      "       'Votes'],\n",
      "      dtype='object')\n"
     ]
    },
    {
     "data": {
      "text/html": [
       "<div>\n",
       "<style scoped>\n",
       "    .dataframe tbody tr th:only-of-type {\n",
       "        vertical-align: middle;\n",
       "    }\n",
       "\n",
       "    .dataframe tbody tr th {\n",
       "        vertical-align: top;\n",
       "    }\n",
       "\n",
       "    .dataframe thead th {\n",
       "        text-align: right;\n",
       "    }\n",
       "</style>\n",
       "<table border=\"1\" class=\"dataframe\">\n",
       "  <thead>\n",
       "    <tr style=\"text-align: right;\">\n",
       "      <th></th>\n",
       "      <th>restaurant_id</th>\n",
       "      <th>restaurant_name</th>\n",
       "      <th>country_code</th>\n",
       "      <th>city</th>\n",
       "      <th>address</th>\n",
       "      <th>locality</th>\n",
       "      <th>locality_verbose</th>\n",
       "      <th>longitude</th>\n",
       "      <th>latitude</th>\n",
       "      <th>cuisines</th>\n",
       "      <th>...</th>\n",
       "      <th>has_online_delivery</th>\n",
       "      <th>is_delivering_now</th>\n",
       "      <th>switch_to_order_menu</th>\n",
       "      <th>price_range</th>\n",
       "      <th>aggregate_rating</th>\n",
       "      <th>rating_color</th>\n",
       "      <th>rating_text</th>\n",
       "      <th>votes</th>\n",
       "      <th>country</th>\n",
       "      <th>price_type</th>\n",
       "    </tr>\n",
       "  </thead>\n",
       "  <tbody>\n",
       "    <tr>\n",
       "      <th>0</th>\n",
       "      <td>6310675</td>\n",
       "      <td>Mama Lou's Italian Kitchen</td>\n",
       "      <td>162</td>\n",
       "      <td>Las Piñas City</td>\n",
       "      <td>Block 1, Lot 36, Tropical Avenue Corner Tropic...</td>\n",
       "      <td>BF International</td>\n",
       "      <td>BF International, Las Piñas City</td>\n",
       "      <td>121.009787</td>\n",
       "      <td>14.447615</td>\n",
       "      <td>Italian</td>\n",
       "      <td>...</td>\n",
       "      <td>0</td>\n",
       "      <td>0</td>\n",
       "      <td>0</td>\n",
       "      <td>3</td>\n",
       "      <td>4.6</td>\n",
       "      <td>3F7E00</td>\n",
       "      <td>Excellent</td>\n",
       "      <td>619</td>\n",
       "      <td>Philippines</td>\n",
       "      <td>expensive</td>\n",
       "    </tr>\n",
       "    <tr>\n",
       "      <th>1</th>\n",
       "      <td>6310675</td>\n",
       "      <td>Mama Lou's Italian Kitchen</td>\n",
       "      <td>162</td>\n",
       "      <td>Las Piñas City</td>\n",
       "      <td>Block 1, Lot 36, Tropical Avenue Corner Tropic...</td>\n",
       "      <td>BF International</td>\n",
       "      <td>BF International, Las Piñas City</td>\n",
       "      <td>121.009787</td>\n",
       "      <td>14.447615</td>\n",
       "      <td>Italian</td>\n",
       "      <td>...</td>\n",
       "      <td>0</td>\n",
       "      <td>0</td>\n",
       "      <td>0</td>\n",
       "      <td>3</td>\n",
       "      <td>4.6</td>\n",
       "      <td>3F7E00</td>\n",
       "      <td>Excellent</td>\n",
       "      <td>619</td>\n",
       "      <td>Philippines</td>\n",
       "      <td>expensive</td>\n",
       "    </tr>\n",
       "    <tr>\n",
       "      <th>2</th>\n",
       "      <td>6314542</td>\n",
       "      <td>Blackbird</td>\n",
       "      <td>162</td>\n",
       "      <td>Makati City</td>\n",
       "      <td>Nielson Tower, Ayala Triangle Gardens, Salcedo...</td>\n",
       "      <td>Ayala Triangle Gardens, Salcedo Village, Makat...</td>\n",
       "      <td>Ayala Triangle Gardens, Salcedo Village, Makat...</td>\n",
       "      <td>121.024562</td>\n",
       "      <td>14.556042</td>\n",
       "      <td>European</td>\n",
       "      <td>...</td>\n",
       "      <td>0</td>\n",
       "      <td>0</td>\n",
       "      <td>0</td>\n",
       "      <td>4</td>\n",
       "      <td>4.7</td>\n",
       "      <td>3F7E00</td>\n",
       "      <td>Excellent</td>\n",
       "      <td>469</td>\n",
       "      <td>Philippines</td>\n",
       "      <td>gourmet</td>\n",
       "    </tr>\n",
       "    <tr>\n",
       "      <th>3</th>\n",
       "      <td>6301293</td>\n",
       "      <td>Banapple</td>\n",
       "      <td>162</td>\n",
       "      <td>Makati City</td>\n",
       "      <td>Ayala Triangle Gardens, Salcedo Village, Makat...</td>\n",
       "      <td>Ayala Triangle Gardens, Salcedo Village, Makat...</td>\n",
       "      <td>Ayala Triangle Gardens, Salcedo Village, Makat...</td>\n",
       "      <td>121.023171</td>\n",
       "      <td>14.556196</td>\n",
       "      <td>Filipino</td>\n",
       "      <td>...</td>\n",
       "      <td>0</td>\n",
       "      <td>0</td>\n",
       "      <td>0</td>\n",
       "      <td>3</td>\n",
       "      <td>4.4</td>\n",
       "      <td>5BA829</td>\n",
       "      <td>Very Good</td>\n",
       "      <td>867</td>\n",
       "      <td>Philippines</td>\n",
       "      <td>expensive</td>\n",
       "    </tr>\n",
       "    <tr>\n",
       "      <th>4</th>\n",
       "      <td>6315689</td>\n",
       "      <td>Bad Bird</td>\n",
       "      <td>162</td>\n",
       "      <td>Makati City</td>\n",
       "      <td>Hole In The Wall, Floor 4, Century City Mall, ...</td>\n",
       "      <td>Century City Mall, Poblacion, Makati City</td>\n",
       "      <td>Century City Mall, Poblacion, Makati City, Mak...</td>\n",
       "      <td>121.027708</td>\n",
       "      <td>14.565899</td>\n",
       "      <td>American</td>\n",
       "      <td>...</td>\n",
       "      <td>0</td>\n",
       "      <td>0</td>\n",
       "      <td>0</td>\n",
       "      <td>3</td>\n",
       "      <td>4.4</td>\n",
       "      <td>5BA829</td>\n",
       "      <td>Very Good</td>\n",
       "      <td>858</td>\n",
       "      <td>Philippines</td>\n",
       "      <td>expensive</td>\n",
       "    </tr>\n",
       "    <tr>\n",
       "      <th>...</th>\n",
       "      <td>...</td>\n",
       "      <td>...</td>\n",
       "      <td>...</td>\n",
       "      <td>...</td>\n",
       "      <td>...</td>\n",
       "      <td>...</td>\n",
       "      <td>...</td>\n",
       "      <td>...</td>\n",
       "      <td>...</td>\n",
       "      <td>...</td>\n",
       "      <td>...</td>\n",
       "      <td>...</td>\n",
       "      <td>...</td>\n",
       "      <td>...</td>\n",
       "      <td>...</td>\n",
       "      <td>...</td>\n",
       "      <td>...</td>\n",
       "      <td>...</td>\n",
       "      <td>...</td>\n",
       "      <td>...</td>\n",
       "      <td>...</td>\n",
       "    </tr>\n",
       "    <tr>\n",
       "      <th>7522</th>\n",
       "      <td>5912546</td>\n",
       "      <td>Eataly</td>\n",
       "      <td>208</td>\n",
       "      <td>İstanbul</td>\n",
       "      <td>Zorlu Center AVM, Köprü Katı, Levazım Mahalles...</td>\n",
       "      <td>Zorlu Center AVM, Levazım, Beşiktaş</td>\n",
       "      <td>Zorlu Center AVM, Levazım, Beşiktaş, İstanbul</td>\n",
       "      <td>29.017326</td>\n",
       "      <td>41.065322</td>\n",
       "      <td>Italian</td>\n",
       "      <td>...</td>\n",
       "      <td>0</td>\n",
       "      <td>0</td>\n",
       "      <td>0</td>\n",
       "      <td>4</td>\n",
       "      <td>4.3</td>\n",
       "      <td>5BA829</td>\n",
       "      <td>Very Good</td>\n",
       "      <td>1367</td>\n",
       "      <td>Turkey</td>\n",
       "      <td>gourmet</td>\n",
       "    </tr>\n",
       "    <tr>\n",
       "      <th>7523</th>\n",
       "      <td>5913006</td>\n",
       "      <td>Tarihi Çınaraltı Aile Çay Bahçesi</td>\n",
       "      <td>208</td>\n",
       "      <td>İstanbul</td>\n",
       "      <td>Çengelköy Mahallesi, Çınaraltı Camii Sokak, No...</td>\n",
       "      <td>Çengelköy Merkez</td>\n",
       "      <td>Çengelköy Merkez, İstanbul</td>\n",
       "      <td>29.052620</td>\n",
       "      <td>41.050280</td>\n",
       "      <td>Fast Food</td>\n",
       "      <td>...</td>\n",
       "      <td>0</td>\n",
       "      <td>0</td>\n",
       "      <td>0</td>\n",
       "      <td>2</td>\n",
       "      <td>4.5</td>\n",
       "      <td>3F7E00</td>\n",
       "      <td>Excellent</td>\n",
       "      <td>1172</td>\n",
       "      <td>Turkey</td>\n",
       "      <td>normal</td>\n",
       "    </tr>\n",
       "    <tr>\n",
       "      <th>7524</th>\n",
       "      <td>5923535</td>\n",
       "      <td>Boon Cafe &amp; Restaurant</td>\n",
       "      <td>208</td>\n",
       "      <td>İstanbul</td>\n",
       "      <td>Çengelköy Mahallesi, Çengelköy Caddesi, Kara S...</td>\n",
       "      <td>Çengelköy Merkez</td>\n",
       "      <td>Çengelköy Merkez, İstanbul</td>\n",
       "      <td>29.052623</td>\n",
       "      <td>41.050717</td>\n",
       "      <td>Restaurant Cafe</td>\n",
       "      <td>...</td>\n",
       "      <td>0</td>\n",
       "      <td>0</td>\n",
       "      <td>0</td>\n",
       "      <td>4</td>\n",
       "      <td>4.2</td>\n",
       "      <td>5BA829</td>\n",
       "      <td>Very Good</td>\n",
       "      <td>1160</td>\n",
       "      <td>Turkey</td>\n",
       "      <td>gourmet</td>\n",
       "    </tr>\n",
       "    <tr>\n",
       "      <th>7525</th>\n",
       "      <td>5914190</td>\n",
       "      <td>Kanaat Lokantası</td>\n",
       "      <td>208</td>\n",
       "      <td>İstanbul</td>\n",
       "      <td>Sultantepe Mahallesi, Selmani Pak Caddesi, No ...</td>\n",
       "      <td>Üsküdar Merkez</td>\n",
       "      <td>Üsküdar Merkez, İstanbul</td>\n",
       "      <td>29.016590</td>\n",
       "      <td>41.025741</td>\n",
       "      <td>Home-made</td>\n",
       "      <td>...</td>\n",
       "      <td>0</td>\n",
       "      <td>0</td>\n",
       "      <td>0</td>\n",
       "      <td>3</td>\n",
       "      <td>4.0</td>\n",
       "      <td>5BA829</td>\n",
       "      <td>Very Good</td>\n",
       "      <td>770</td>\n",
       "      <td>Turkey</td>\n",
       "      <td>expensive</td>\n",
       "    </tr>\n",
       "    <tr>\n",
       "      <th>7526</th>\n",
       "      <td>5913508</td>\n",
       "      <td>Katibim</td>\n",
       "      <td>208</td>\n",
       "      <td>İstanbul</td>\n",
       "      <td>Mimar Sinan Mahallesi, Harem Sahilyolu, No 53,...</td>\n",
       "      <td>Üsküdar Merkez</td>\n",
       "      <td>Üsküdar Merkez, İstanbul</td>\n",
       "      <td>29.010808</td>\n",
       "      <td>41.025501</td>\n",
       "      <td>Restaurant Cafe</td>\n",
       "      <td>...</td>\n",
       "      <td>0</td>\n",
       "      <td>0</td>\n",
       "      <td>0</td>\n",
       "      <td>4</td>\n",
       "      <td>4.2</td>\n",
       "      <td>5BA829</td>\n",
       "      <td>Very Good</td>\n",
       "      <td>1141</td>\n",
       "      <td>Turkey</td>\n",
       "      <td>gourmet</td>\n",
       "    </tr>\n",
       "  </tbody>\n",
       "</table>\n",
       "<p>7527 rows × 23 columns</p>\n",
       "</div>"
      ],
      "text/plain": [
       "      restaurant_id                    restaurant_name  country_code  \\\n",
       "0           6310675         Mama Lou's Italian Kitchen           162   \n",
       "1           6310675         Mama Lou's Italian Kitchen           162   \n",
       "2           6314542                          Blackbird           162   \n",
       "3           6301293                           Banapple           162   \n",
       "4           6315689                           Bad Bird           162   \n",
       "...             ...                                ...           ...   \n",
       "7522        5912546                             Eataly           208   \n",
       "7523        5913006  Tarihi Çınaraltı Aile Çay Bahçesi           208   \n",
       "7524        5923535             Boon Cafe & Restaurant           208   \n",
       "7525        5914190                   Kanaat Lokantası           208   \n",
       "7526        5913508                            Katibim           208   \n",
       "\n",
       "                city                                            address  \\\n",
       "0     Las Piñas City  Block 1, Lot 36, Tropical Avenue Corner Tropic...   \n",
       "1     Las Piñas City  Block 1, Lot 36, Tropical Avenue Corner Tropic...   \n",
       "2        Makati City  Nielson Tower, Ayala Triangle Gardens, Salcedo...   \n",
       "3        Makati City  Ayala Triangle Gardens, Salcedo Village, Makat...   \n",
       "4        Makati City  Hole In The Wall, Floor 4, Century City Mall, ...   \n",
       "...              ...                                                ...   \n",
       "7522        İstanbul  Zorlu Center AVM, Köprü Katı, Levazım Mahalles...   \n",
       "7523        İstanbul  Çengelköy Mahallesi, Çınaraltı Camii Sokak, No...   \n",
       "7524        İstanbul  Çengelköy Mahallesi, Çengelköy Caddesi, Kara S...   \n",
       "7525        İstanbul  Sultantepe Mahallesi, Selmani Pak Caddesi, No ...   \n",
       "7526        İstanbul  Mimar Sinan Mahallesi, Harem Sahilyolu, No 53,...   \n",
       "\n",
       "                                               locality  \\\n",
       "0                                      BF International   \n",
       "1                                      BF International   \n",
       "2     Ayala Triangle Gardens, Salcedo Village, Makat...   \n",
       "3     Ayala Triangle Gardens, Salcedo Village, Makat...   \n",
       "4             Century City Mall, Poblacion, Makati City   \n",
       "...                                                 ...   \n",
       "7522                Zorlu Center AVM, Levazım, Beşiktaş   \n",
       "7523                                   Çengelköy Merkez   \n",
       "7524                                   Çengelköy Merkez   \n",
       "7525                                     Üsküdar Merkez   \n",
       "7526                                     Üsküdar Merkez   \n",
       "\n",
       "                                       locality_verbose   longitude  \\\n",
       "0                      BF International, Las Piñas City  121.009787   \n",
       "1                      BF International, Las Piñas City  121.009787   \n",
       "2     Ayala Triangle Gardens, Salcedo Village, Makat...  121.024562   \n",
       "3     Ayala Triangle Gardens, Salcedo Village, Makat...  121.023171   \n",
       "4     Century City Mall, Poblacion, Makati City, Mak...  121.027708   \n",
       "...                                                 ...         ...   \n",
       "7522      Zorlu Center AVM, Levazım, Beşiktaş, İstanbul   29.017326   \n",
       "7523                         Çengelköy Merkez, İstanbul   29.052620   \n",
       "7524                         Çengelköy Merkez, İstanbul   29.052623   \n",
       "7525                           Üsküdar Merkez, İstanbul   29.016590   \n",
       "7526                           Üsküdar Merkez, İstanbul   29.010808   \n",
       "\n",
       "       latitude         cuisines  ...  has_online_delivery is_delivering_now  \\\n",
       "0     14.447615          Italian  ...                    0                 0   \n",
       "1     14.447615          Italian  ...                    0                 0   \n",
       "2     14.556042         European  ...                    0                 0   \n",
       "3     14.556196         Filipino  ...                    0                 0   \n",
       "4     14.565899         American  ...                    0                 0   \n",
       "...         ...              ...  ...                  ...               ...   \n",
       "7522  41.065322          Italian  ...                    0                 0   \n",
       "7523  41.050280        Fast Food  ...                    0                 0   \n",
       "7524  41.050717  Restaurant Cafe  ...                    0                 0   \n",
       "7525  41.025741        Home-made  ...                    0                 0   \n",
       "7526  41.025501  Restaurant Cafe  ...                    0                 0   \n",
       "\n",
       "      switch_to_order_menu  price_range  aggregate_rating  rating_color  \\\n",
       "0                        0            3               4.6        3F7E00   \n",
       "1                        0            3               4.6        3F7E00   \n",
       "2                        0            4               4.7        3F7E00   \n",
       "3                        0            3               4.4        5BA829   \n",
       "4                        0            3               4.4        5BA829   \n",
       "...                    ...          ...               ...           ...   \n",
       "7522                     0            4               4.3        5BA829   \n",
       "7523                     0            2               4.5        3F7E00   \n",
       "7524                     0            4               4.2        5BA829   \n",
       "7525                     0            3               4.0        5BA829   \n",
       "7526                     0            4               4.2        5BA829   \n",
       "\n",
       "      rating_text  votes      country price_type  \n",
       "0       Excellent    619  Philippines  expensive  \n",
       "1       Excellent    619  Philippines  expensive  \n",
       "2       Excellent    469  Philippines    gourmet  \n",
       "3       Very Good    867  Philippines  expensive  \n",
       "4       Very Good    858  Philippines  expensive  \n",
       "...           ...    ...          ...        ...  \n",
       "7522    Very Good   1367       Turkey    gourmet  \n",
       "7523    Excellent   1172       Turkey     normal  \n",
       "7524    Very Good   1160       Turkey    gourmet  \n",
       "7525    Very Good    770       Turkey  expensive  \n",
       "7526    Very Good   1141       Turkey    gourmet  \n",
       "\n",
       "[7527 rows x 23 columns]"
      ]
     },
     "metadata": {},
     "output_type": "display_data"
    }
   ],
   "source": [
    "import pandas as pd \n",
    "import inflection\n",
    "\n",
    "\n",
    "#-----------------------------------\n",
    "### Funções\n",
    "#-----------------------------------\n",
    "\n",
    "def rename_columns(dataframe):\n",
    "    df = dataframe.copy()\n",
    "    title = lambda x: inflection.titleize(x)\n",
    "    snakecase = lambda x: inflection.underscore(x)\n",
    "    spaces = lambda x: x.replace(\" \", \"\")\n",
    "    cols_old = list(df.columns)\n",
    "    cols_old = list(map(title, cols_old))\n",
    "    cols_old = list(map(spaces, cols_old))\n",
    "    cols_new = list(map(snakecase, cols_old))\n",
    "    df.columns = cols_new\n",
    "    return df\n",
    "\n",
    "\n",
    "COUNTRIES = {\n",
    "    1: \"India\",\n",
    "    14: \"Australia\",\n",
    "    30: \"Brazil\",\n",
    "    37: \"Canada\",\n",
    "    94: \"Indonesia\",\n",
    "    148: \"New Zeland\",\n",
    "    162: \"Philippines\",\n",
    "    166: \"Qatar\",\n",
    "    184: \"Singapure\",\n",
    "    189: \"South Africa\",\n",
    "    191: \"Sri Lanka\",\n",
    "    208: \"Turkey\",\n",
    "    214: \"United Arab Emirates\",\n",
    "    215: \"England\",\n",
    "    216: \"United States of America\"\n",
    "    }\n",
    "def country_name(Country_Code):\n",
    "    return COUNTRIES[Country_Code]\n",
    "\n",
    "def create_price_tye(price_range):\n",
    "    if price_range == 1:\n",
    "        return \"cheap\"\n",
    "    elif price_range == 2:\n",
    "        return \"normal\"\n",
    "    elif price_range == 3:\n",
    "        return \"expensive\"\n",
    "    else:\n",
    "        return \"gourmet\"\n",
    "\n",
    "COLORS = {\n",
    "    \"3F7E00\": \"darkgreen\",\n",
    "    \"5BA829\": \"green\",\n",
    "    \"9ACD32\": \"lightgreen\",\n",
    "    \"CDD614\": \"orange\",\n",
    "    \"FFBA00\": \"red\",\n",
    "    \"CBCBC8\": \"darkred\",\n",
    "    \"FF7800\": \"darkred\",\n",
    "    }\n",
    "def color_name(color_code):\n",
    "    return COLORS[color_code]\n",
    "\n",
    "\n",
    "\n",
    "#-----------------------------------\n",
    "### Importação dos dados\n",
    "#-----------------------------------\n",
    "df = pd.read_csv(r'C:\\Users\\Thiago\\Documents\\repos\\Projeto_final\\dataframe\\zomato.csv')\n",
    "\n",
    "print(df.columns)\n",
    "\n",
    "df = rename_columns(df)\n",
    "\n",
    "df[\"cuisines\"] = df[\"cuisines\"].apply(lambda x: x.split(\",\")[0] if isinstance(x, str) else x)\n",
    "\n",
    "df['country'] = df['country_code'].apply(country_name)\n",
    "\n",
    "df['price_type'] = df['price_range'].apply(create_price_tye)\n",
    "\n",
    "display(df)\n",
    "\n"
   ]
  },
  {
   "cell_type": "code",
   "execution_count": 4,
   "metadata": {},
   "outputs": [
    {
     "data": {
      "text/plain": [
       "array(['Philippines', 'Brazil', 'Australia', 'United States of America',\n",
       "       'Canada', 'Singapure', 'United Arab Emirates', 'India',\n",
       "       'Indonesia', 'New Zeland', 'England', 'Qatar', 'South Africa',\n",
       "       'Sri Lanka', 'Turkey'], dtype=object)"
      ]
     },
     "execution_count": 4,
     "metadata": {},
     "output_type": "execute_result"
    }
   ],
   "source": [
    "df['country'].unique()"
   ]
  },
  {
   "cell_type": "code",
   "execution_count": 4,
   "metadata": {},
   "outputs": [
    {
     "data": {
      "text/plain": [
       "6942"
      ]
     },
     "execution_count": 4,
     "metadata": {},
     "output_type": "execute_result"
    }
   ],
   "source": [
    "#Geral\n",
    "\n",
    "# 1. Quantos restaurantes únicos estão registrados?\n",
    "\n",
    "df.loc[:,'restaurant_id'].nunique()\n",
    "\n"
   ]
  },
  {
   "cell_type": "code",
   "execution_count": 6,
   "metadata": {},
   "outputs": [
    {
     "data": {
      "text/plain": [
       "15"
      ]
     },
     "execution_count": 6,
     "metadata": {},
     "output_type": "execute_result"
    }
   ],
   "source": [
    "# 2. Quantos países únicos estão registrados?\n",
    "\n",
    "df.loc[:,'country_code'].nunique()"
   ]
  },
  {
   "cell_type": "code",
   "execution_count": 11,
   "metadata": {},
   "outputs": [
    {
     "data": {
      "text/plain": [
       "125"
      ]
     },
     "execution_count": 11,
     "metadata": {},
     "output_type": "execute_result"
    }
   ],
   "source": [
    "# 3. Quantas cidades únicas estão registradas?\n",
    "\n",
    "df.loc[:,'city'].nunique()\n"
   ]
  },
  {
   "cell_type": "code",
   "execution_count": 8,
   "metadata": {},
   "outputs": [
    {
     "data": {
      "text/plain": [
       "np.int64(4639654)"
      ]
     },
     "execution_count": 8,
     "metadata": {},
     "output_type": "execute_result"
    }
   ],
   "source": [
    "#  4. Qual o total de avaliações feitas?\n",
    "\n",
    "df.loc[:,'votes'].sum()"
   ]
  },
  {
   "cell_type": "code",
   "execution_count": 9,
   "metadata": {},
   "outputs": [
    {
     "data": {
      "text/plain": [
       "165"
      ]
     },
     "execution_count": 9,
     "metadata": {},
     "output_type": "execute_result"
    }
   ],
   "source": [
    "# 5. Qual o total de tipos de culinária registrados?\n",
    "\n",
    "df.loc[:,'cuisines'].nunique()"
   ]
  },
  {
   "cell_type": "code",
   "execution_count": 11,
   "metadata": {},
   "outputs": [
    {
     "name": "stdout",
     "output_type": "stream",
     "text": [
      "O pais com mais cidades cadastradas é India com 49 cidades\n"
     ]
    }
   ],
   "source": [
    "#Pais\n",
    "\n",
    "# 1. Qual o nome do país que possui mais cidades registradas?\n",
    "\n",
    "#city_count_by_country = df['Country'].value_counts()\n",
    "#print(city_count_by_country)\n",
    "\n",
    "qtde_cidades_pais_ = df.loc[:,['city','country']].groupby('country').nunique()\n",
    "\n",
    "pais_mais_cidades = qtde_cidades_pais_['city'].idxmax()\n",
    "\n",
    "qtde_cidades_pais = qtde_cidades_pais_.loc[pais_mais_cidades, 'city'].max()\n",
    "\n",
    "\n",
    "\n",
    "print(f'O pais com mais cidades cadastradas é {pais_mais_cidades} com {qtde_cidades_pais} cidades')"
   ]
  },
  {
   "cell_type": "code",
   "execution_count": 12,
   "metadata": {},
   "outputs": [
    {
     "name": "stdout",
     "output_type": "stream",
     "text": [
      "India\n"
     ]
    }
   ],
   "source": [
    " #2. Qual o nome do país que possui mais restaurantes registrados?\n",
    "\n",
    "qtde_restaurantes_pais = df.loc[:,['restaurant_id','country']].groupby('country').nunique()\n",
    "\n",
    "pais_mais_restaurantes = qtde_restaurantes_pais['restaurant_id'].idxmax()\n",
    "\n",
    "print(pais_mais_restaurantes)"
   ]
  },
  {
   "cell_type": "code",
   "execution_count": 13,
   "metadata": {},
   "outputs": [
    {
     "name": "stdout",
     "output_type": "stream",
     "text": [
      "United States of America\n"
     ]
    }
   ],
   "source": [
    "# 3. Qual o nome do país que possui mais restaurantes com o nível de preço igual a 4 registrados?\n",
    "\n",
    "df_aux = df[df['price_range'] == 4]\n",
    "\n",
    "qtde_restaurantes_pais = df_aux.loc[:,['restaurant_id','country']].groupby('country').nunique()\n",
    "\n",
    "pais_mais_restaurantes = qtde_restaurantes_pais['restaurant_id'].idxmax()\n",
    "\n",
    "print(pais_mais_restaurantes)\n"
   ]
  },
  {
   "cell_type": "code",
   "execution_count": 15,
   "metadata": {},
   "outputs": [
    {
     "name": "stdout",
     "output_type": "stream",
     "text": [
      "O país que possui a maior quantidade de tipos de culinária é India com cuisines    77\n",
      "dtype: int64 culinária\n"
     ]
    }
   ],
   "source": [
    "# 4. Qual o nome do país que possui a maior quantidade de tipos de culinária distintos?\n",
    "\n",
    "qtde_culinarias_pais_ = df.loc[:,['cuisines','country']].groupby('country').nunique()\n",
    "\n",
    "qtde_culinarias_pais = qtde_culinarias_pais_.max()\n",
    "\n",
    "pais_mais_culinarias = qtde_culinarias_pais_['cuisines'].idxmax()\n",
    "\n",
    "print(f'O país que possui a maior quantidade de tipos de culinária é {pais_mais_culinarias} com {qtde_culinarias_pais} culinária')\n"
   ]
  },
  {
   "cell_type": "code",
   "execution_count": 5,
   "metadata": {},
   "outputs": [
    {
     "data": {
      "text/html": [
       "<div>\n",
       "<style scoped>\n",
       "    .dataframe tbody tr th:only-of-type {\n",
       "        vertical-align: middle;\n",
       "    }\n",
       "\n",
       "    .dataframe tbody tr th {\n",
       "        vertical-align: top;\n",
       "    }\n",
       "\n",
       "    .dataframe thead th {\n",
       "        text-align: right;\n",
       "    }\n",
       "</style>\n",
       "<table border=\"1\" class=\"dataframe\">\n",
       "  <thead>\n",
       "    <tr style=\"text-align: right;\">\n",
       "      <th></th>\n",
       "      <th>city</th>\n",
       "      <th>restaurant_id</th>\n",
       "      <th>country</th>\n",
       "      <th>cuisines</th>\n",
       "    </tr>\n",
       "  </thead>\n",
       "  <tbody>\n",
       "    <tr>\n",
       "      <th>0</th>\n",
       "      <td>Abu Dhabi</td>\n",
       "      <td>5700005</td>\n",
       "      <td>United Arab Emirates</td>\n",
       "      <td>1</td>\n",
       "    </tr>\n",
       "    <tr>\n",
       "      <th>1</th>\n",
       "      <td>Abu Dhabi</td>\n",
       "      <td>5700007</td>\n",
       "      <td>United Arab Emirates</td>\n",
       "      <td>1</td>\n",
       "    </tr>\n",
       "    <tr>\n",
       "      <th>2</th>\n",
       "      <td>Abu Dhabi</td>\n",
       "      <td>5700031</td>\n",
       "      <td>United Arab Emirates</td>\n",
       "      <td>1</td>\n",
       "    </tr>\n",
       "    <tr>\n",
       "      <th>3</th>\n",
       "      <td>Abu Dhabi</td>\n",
       "      <td>5700042</td>\n",
       "      <td>United Arab Emirates</td>\n",
       "      <td>1</td>\n",
       "    </tr>\n",
       "    <tr>\n",
       "      <th>4</th>\n",
       "      <td>Abu Dhabi</td>\n",
       "      <td>5700049</td>\n",
       "      <td>United Arab Emirates</td>\n",
       "      <td>2</td>\n",
       "    </tr>\n",
       "    <tr>\n",
       "      <th>...</th>\n",
       "      <td>...</td>\n",
       "      <td>...</td>\n",
       "      <td>...</td>\n",
       "      <td>...</td>\n",
       "    </tr>\n",
       "    <tr>\n",
       "      <th>6937</th>\n",
       "      <td>İstanbul</td>\n",
       "      <td>18384621</td>\n",
       "      <td>Turkey</td>\n",
       "      <td>1</td>\n",
       "    </tr>\n",
       "    <tr>\n",
       "      <th>6938</th>\n",
       "      <td>İstanbul</td>\n",
       "      <td>18426805</td>\n",
       "      <td>Turkey</td>\n",
       "      <td>1</td>\n",
       "    </tr>\n",
       "    <tr>\n",
       "      <th>6939</th>\n",
       "      <td>İstanbul</td>\n",
       "      <td>18442162</td>\n",
       "      <td>Turkey</td>\n",
       "      <td>1</td>\n",
       "    </tr>\n",
       "    <tr>\n",
       "      <th>6940</th>\n",
       "      <td>İstanbul</td>\n",
       "      <td>18453909</td>\n",
       "      <td>Turkey</td>\n",
       "      <td>1</td>\n",
       "    </tr>\n",
       "    <tr>\n",
       "      <th>6941</th>\n",
       "      <td>İstanbul</td>\n",
       "      <td>18514851</td>\n",
       "      <td>Turkey</td>\n",
       "      <td>1</td>\n",
       "    </tr>\n",
       "  </tbody>\n",
       "</table>\n",
       "<p>6942 rows × 4 columns</p>\n",
       "</div>"
      ],
      "text/plain": [
       "           city  restaurant_id               country  cuisines\n",
       "0     Abu Dhabi        5700005  United Arab Emirates         1\n",
       "1     Abu Dhabi        5700007  United Arab Emirates         1\n",
       "2     Abu Dhabi        5700031  United Arab Emirates         1\n",
       "3     Abu Dhabi        5700042  United Arab Emirates         1\n",
       "4     Abu Dhabi        5700049  United Arab Emirates         2\n",
       "...         ...            ...                   ...       ...\n",
       "6937   İstanbul       18384621                Turkey         1\n",
       "6938   İstanbul       18426805                Turkey         1\n",
       "6939   İstanbul       18442162                Turkey         1\n",
       "6940   İstanbul       18453909                Turkey         1\n",
       "6941   İstanbul       18514851                Turkey         1\n",
       "\n",
       "[6942 rows x 4 columns]"
      ]
     },
     "execution_count": 5,
     "metadata": {},
     "output_type": "execute_result"
    }
   ],
   "source": [
    "qtda_restaurantes_cidades_cusines = df.groupby(['city','restaurant_id', 'country'])['cuisines'].count().reset_index()\n",
    "qtda_restaurantes_cidades_cusines"
   ]
  },
  {
   "cell_type": "code",
   "execution_count": 16,
   "metadata": {},
   "outputs": [
    {
     "name": "stdout",
     "output_type": "stream",
     "text": [
      "4 country    United States of America\n",
      "votes                       3175104\n",
      "dtype: object\n"
     ]
    }
   ],
   "source": [
    "# 5. Qual o nome do país que possui a maior quantidade de avaliações feitas?\n",
    "\n",
    "qtde_avaliacoes = df.loc[:,['votes','country']].groupby('country').sum().reset_index()\n",
    "\n",
    "qtde_pais_mais_avaliacoes = qtde_avaliacoes.max()\n",
    "\n",
    "pais_mais_avaliacoes = qtde_avaliacoes['votes'].idxmax()\n",
    "\n",
    "\n",
    "print(pais_mais_avaliacoes,qtde_pais_mais_avaliacoes)"
   ]
  },
  {
   "cell_type": "code",
   "execution_count": 9,
   "metadata": {},
   "outputs": [
    {
     "name": "stdout",
     "output_type": "stream",
     "text": [
      "  country  restaurant_id\n",
      "0   India           1150\n"
     ]
    }
   ],
   "source": [
    "# 6. Qual o nome do país que possui a maior quantidade de restaurantes que fazem entrega?\n",
    "\n",
    "df_aux = df[(df['has_online_delivery'] == 1) & (df['is_delivering_now'] == 1)] \n",
    "\n",
    "restaurantes_entregas_pais = df_aux.loc[:,['restaurant_id','country']].groupby('country').nunique().reset_index()\n",
    "\n",
    "pais_com_mais_restaurantes = restaurantes_entregas_pais.sort_values(by='restaurant_id', ascending=False).head(1)\n",
    "\n",
    "\n",
    "print(pais_com_mais_restaurantes)"
   ]
  },
  {
   "cell_type": "code",
   "execution_count": 7,
   "metadata": {},
   "outputs": [
    {
     "name": "stdout",
     "output_type": "stream",
     "text": [
      "  country  restaurant_id\n",
      "2   India            256\n"
     ]
    }
   ],
   "source": [
    " #7. Qual o nome do país que possui a maior quantidade de restaurantes que aceitam reservas?\n",
    "\n",
    "df_aux = df[(df['has_table_booking'] == 1)]\n",
    "\n",
    "restaurantes_reservas = df_aux.loc[:,['restaurant_id','country']].groupby('country').nunique().reset_index()\n",
    "\n",
    "pais_mais_restaurantes_reservas = restaurantes_reservas.sort_values(by='restaurant_id', ascending=False).head(1)\n",
    "\n",
    "print(pais_mais_restaurantes_reservas)"
   ]
  },
  {
   "cell_type": "code",
   "execution_count": 17,
   "metadata": {},
   "outputs": [
    {
     "name": "stdout",
     "output_type": "stream",
     "text": [
      "     country        votes\n",
      "5  Indonesia  1115.317073\n"
     ]
    }
   ],
   "source": [
    "#8. Qual o nome do país que possui, na média, a maior quantidade de avaliações registrada?\n",
    "\n",
    "media_nota_pais = df.loc[:,['votes','country']].groupby('country').mean().reset_index()\n",
    "\n",
    "pais_melhor_media = media_nota_pais.sort_values(by='votes', ascending=False).head(1)\n",
    "\n",
    "print(pais_melhor_media)\n"
   ]
  },
  {
   "cell_type": "code",
   "execution_count": 17,
   "metadata": {},
   "outputs": [
    {
     "name": "stdout",
     "output_type": "stream",
     "text": [
      "     country  aggregate_rating\n",
      "5  Indonesia               4.6\n"
     ]
    }
   ],
   "source": [
    "# 9. Qual o nome do país que possui, na média, a maior nota média registrada?\n",
    "\n",
    "media_nota_pais = df.loc[:,['aggregate_rating','country']].groupby('country').mean().reset_index()\n",
    "\n",
    "pais_melhor_media = media_nota_pais.sort_values(by='aggregate_rating', ascending=False).head(1)\n",
    "\n",
    "print(pais_melhor_media)"
   ]
  },
  {
   "cell_type": "code",
   "execution_count": 18,
   "metadata": {},
   "outputs": [
    {
     "name": "stdout",
     "output_type": "stream",
     "text": [
      "  country  aggregate_rating\n",
      "1  Brazil          3.349425\n"
     ]
    }
   ],
   "source": [
    "# 10. Qual o nome do país que possui, na média, a menor nota média registrada?\n",
    "\n",
    "media_nota_pais = df.loc[:,['aggregate_rating','country']].groupby('country').mean().reset_index()\n",
    "\n",
    "pais_melhor_media = media_nota_pais.sort_values(by='aggregate_rating', ascending=True).head(1)\n",
    "\n",
    "print(pais_melhor_media)"
   ]
  },
  {
   "cell_type": "code",
   "execution_count": 19,
   "metadata": {},
   "outputs": [
    {
     "data": {
      "text/html": [
       "<div>\n",
       "<style scoped>\n",
       "    .dataframe tbody tr th:only-of-type {\n",
       "        vertical-align: middle;\n",
       "    }\n",
       "\n",
       "    .dataframe tbody tr th {\n",
       "        vertical-align: top;\n",
       "    }\n",
       "\n",
       "    .dataframe thead th {\n",
       "        text-align: right;\n",
       "    }\n",
       "</style>\n",
       "<table border=\"1\" class=\"dataframe\">\n",
       "  <thead>\n",
       "    <tr style=\"text-align: right;\">\n",
       "      <th></th>\n",
       "      <th>country</th>\n",
       "      <th>average_cost_for_two</th>\n",
       "    </tr>\n",
       "  </thead>\n",
       "  <tbody>\n",
       "    <tr>\n",
       "      <th>5</th>\n",
       "      <td>Indonesia</td>\n",
       "      <td>312682.93</td>\n",
       "    </tr>\n",
       "    <tr>\n",
       "      <th>0</th>\n",
       "      <td>Australia</td>\n",
       "      <td>138959.78</td>\n",
       "    </tr>\n",
       "    <tr>\n",
       "      <th>11</th>\n",
       "      <td>Sri Lanka</td>\n",
       "      <td>2607.47</td>\n",
       "    </tr>\n",
       "    <tr>\n",
       "      <th>7</th>\n",
       "      <td>Philippines</td>\n",
       "      <td>1211.09</td>\n",
       "    </tr>\n",
       "    <tr>\n",
       "      <th>4</th>\n",
       "      <td>India</td>\n",
       "      <td>702.30</td>\n",
       "    </tr>\n",
       "    <tr>\n",
       "      <th>10</th>\n",
       "      <td>South Africa</td>\n",
       "      <td>335.48</td>\n",
       "    </tr>\n",
       "    <tr>\n",
       "      <th>8</th>\n",
       "      <td>Qatar</td>\n",
       "      <td>176.65</td>\n",
       "    </tr>\n",
       "    <tr>\n",
       "      <th>13</th>\n",
       "      <td>United Arab Emirates</td>\n",
       "      <td>158.22</td>\n",
       "    </tr>\n",
       "    <tr>\n",
       "      <th>9</th>\n",
       "      <td>Singapure</td>\n",
       "      <td>141.04</td>\n",
       "    </tr>\n",
       "    <tr>\n",
       "      <th>1</th>\n",
       "      <td>Brazil</td>\n",
       "      <td>137.38</td>\n",
       "    </tr>\n",
       "    <tr>\n",
       "      <th>12</th>\n",
       "      <td>Turkey</td>\n",
       "      <td>128.85</td>\n",
       "    </tr>\n",
       "    <tr>\n",
       "      <th>6</th>\n",
       "      <td>New Zeland</td>\n",
       "      <td>61.44</td>\n",
       "    </tr>\n",
       "    <tr>\n",
       "      <th>14</th>\n",
       "      <td>United States of America</td>\n",
       "      <td>54.92</td>\n",
       "    </tr>\n",
       "    <tr>\n",
       "      <th>3</th>\n",
       "      <td>England</td>\n",
       "      <td>43.05</td>\n",
       "    </tr>\n",
       "    <tr>\n",
       "      <th>2</th>\n",
       "      <td>Canada</td>\n",
       "      <td>41.86</td>\n",
       "    </tr>\n",
       "  </tbody>\n",
       "</table>\n",
       "</div>"
      ],
      "text/plain": [
       "                     country  average_cost_for_two\n",
       "5                  Indonesia             312682.93\n",
       "0                  Australia             138959.78\n",
       "11                 Sri Lanka               2607.47\n",
       "7                Philippines               1211.09\n",
       "4                      India                702.30\n",
       "10              South Africa                335.48\n",
       "8                      Qatar                176.65\n",
       "13      United Arab Emirates                158.22\n",
       "9                  Singapure                141.04\n",
       "1                     Brazil                137.38\n",
       "12                    Turkey                128.85\n",
       "6                 New Zeland                 61.44\n",
       "14  United States of America                 54.92\n",
       "3                    England                 43.05\n",
       "2                     Canada                 41.86"
      ]
     },
     "execution_count": 19,
     "metadata": {},
     "output_type": "execute_result"
    }
   ],
   "source": [
    " #11. Qual a média de preço de um prato para dois por país?\n",
    "\n",
    "media_preco_dois_pais = df.loc[:,['average_cost_for_two','country']].groupby('country').mean().reset_index()\n",
    "\n",
    "ordenado = media_preco_dois_pais.sort_values(by='average_cost_for_two',ascending=False)\n",
    "\n",
    "ordenado['average_cost_for_two'] = ordenado['average_cost_for_two'].round(2)\n",
    "\n",
    "ordenado\n"
   ]
  },
  {
   "cell_type": "code",
   "execution_count": 40,
   "metadata": {},
   "outputs": [
    {
     "data": {
      "text/html": [
       "<div>\n",
       "<style scoped>\n",
       "    .dataframe tbody tr th:only-of-type {\n",
       "        vertical-align: middle;\n",
       "    }\n",
       "\n",
       "    .dataframe tbody tr th {\n",
       "        vertical-align: top;\n",
       "    }\n",
       "\n",
       "    .dataframe thead th {\n",
       "        text-align: right;\n",
       "    }\n",
       "</style>\n",
       "<table border=\"1\" class=\"dataframe\">\n",
       "  <thead>\n",
       "    <tr style=\"text-align: right;\">\n",
       "      <th></th>\n",
       "      <th>city</th>\n",
       "      <th>restaurant_id</th>\n",
       "    </tr>\n",
       "  </thead>\n",
       "  <tbody>\n",
       "    <tr>\n",
       "      <th>0</th>\n",
       "      <td>Abu Dhabi</td>\n",
       "      <td>80</td>\n",
       "    </tr>\n",
       "  </tbody>\n",
       "</table>\n",
       "</div>"
      ],
      "text/plain": [
       "        city  restaurant_id\n",
       "0  Abu Dhabi             80"
      ]
     },
     "execution_count": 40,
     "metadata": {},
     "output_type": "execute_result"
    }
   ],
   "source": [
    "#Cidade\n",
    "\n",
    " #1. Qual o nome da cidade que possui mais restaurantes registrados?\n",
    "\n",
    "contagem_restaurantes_cidades = df.loc[:,['restaurant_id','city']].groupby('city').nunique().reset_index()\n",
    "\n",
    "cidade_mais_restaurante = contagem_restaurantes_cidades.sort_values(by='restaurant_id', ascending=False).head(1)\n",
    "\n",
    "cidade_mais_restaurante"
   ]
  },
  {
   "cell_type": "code",
   "execution_count": 12,
   "metadata": {},
   "outputs": [
    {
     "data": {
      "text/html": [
       "<div>\n",
       "<style scoped>\n",
       "    .dataframe tbody tr th:only-of-type {\n",
       "        vertical-align: middle;\n",
       "    }\n",
       "\n",
       "    .dataframe tbody tr th {\n",
       "        vertical-align: top;\n",
       "    }\n",
       "\n",
       "    .dataframe thead th {\n",
       "        text-align: right;\n",
       "    }\n",
       "</style>\n",
       "<table border=\"1\" class=\"dataframe\">\n",
       "  <thead>\n",
       "    <tr style=\"text-align: right;\">\n",
       "      <th></th>\n",
       "      <th>city</th>\n",
       "      <th>restaurant_id</th>\n",
       "    </tr>\n",
       "  </thead>\n",
       "  <tbody>\n",
       "    <tr>\n",
       "      <th>11</th>\n",
       "      <td>Bangalore</td>\n",
       "      <td>79</td>\n",
       "    </tr>\n",
       "  </tbody>\n",
       "</table>\n",
       "</div>"
      ],
      "text/plain": [
       "         city  restaurant_id\n",
       "11  Bangalore             79"
      ]
     },
     "execution_count": 12,
     "metadata": {},
     "output_type": "execute_result"
    }
   ],
   "source": [
    "# 2. Qual o nome da cidade que possui mais restaurantes com nota média acima de  4?\n",
    "\n",
    "#df_aux = df[df['restaurant_id'] == 6310675]\n",
    "\n",
    "media_nota_restaurante = df.loc[:,['city','restaurant_id','aggregate_rating']].groupby(['city','restaurant_id']).mean().reset_index()\n",
    "\n",
    "nota_restaurante_4 = media_nota_restaurante[media_nota_restaurante['aggregate_rating'] > 4]\n",
    "\n",
    "contagem_restaurantes_4 = nota_restaurante_4.loc[:,['city','restaurant_id']].groupby('city').nunique().reset_index()\n",
    "\n",
    "city = contagem_restaurantes_4.sort_values(by='restaurant_id', ascending=False).head(1)\n",
    "\n",
    "city"
   ]
  },
  {
   "cell_type": "code",
   "execution_count": 13,
   "metadata": {},
   "outputs": [
    {
     "data": {
      "text/html": [
       "<div>\n",
       "<style scoped>\n",
       "    .dataframe tbody tr th:only-of-type {\n",
       "        vertical-align: middle;\n",
       "    }\n",
       "\n",
       "    .dataframe tbody tr th {\n",
       "        vertical-align: top;\n",
       "    }\n",
       "\n",
       "    .dataframe thead th {\n",
       "        text-align: right;\n",
       "    }\n",
       "</style>\n",
       "<table border=\"1\" class=\"dataframe\">\n",
       "  <thead>\n",
       "    <tr style=\"text-align: right;\">\n",
       "      <th></th>\n",
       "      <th>city</th>\n",
       "      <th>restaurant_id</th>\n",
       "    </tr>\n",
       "  </thead>\n",
       "  <tbody>\n",
       "    <tr>\n",
       "      <th>6</th>\n",
       "      <td>Gangtok</td>\n",
       "      <td>40</td>\n",
       "    </tr>\n",
       "  </tbody>\n",
       "</table>\n",
       "</div>"
      ],
      "text/plain": [
       "      city  restaurant_id\n",
       "6  Gangtok             40"
      ]
     },
     "execution_count": 13,
     "metadata": {},
     "output_type": "execute_result"
    }
   ],
   "source": [
    "#3. Qual o nome da cidade que possui mais restaurantes com nota média abaixo de 2.5?\n",
    "\n",
    "media_nota_restaurante = df.loc[:,['city','restaurant_id','aggregate_rating']].groupby(['city','restaurant_id']).mean().reset_index()\n",
    "\n",
    "nota_restaurante_4 = media_nota_restaurante[media_nota_restaurante['aggregate_rating'] < 2.5]\n",
    "\n",
    "contagem_restaurantes_4 = nota_restaurante_4.loc[:,['city','restaurant_id']].groupby('city').nunique().reset_index()\n",
    "\n",
    "city = contagem_restaurantes_4.sort_values(by='restaurant_id', ascending=False).head(1)\n",
    "\n",
    "city\n",
    "\n"
   ]
  },
  {
   "cell_type": "code",
   "execution_count": 18,
   "metadata": {},
   "outputs": [
    {
     "data": {
      "text/html": [
       "<div>\n",
       "<style scoped>\n",
       "    .dataframe tbody tr th:only-of-type {\n",
       "        vertical-align: middle;\n",
       "    }\n",
       "\n",
       "    .dataframe tbody tr th {\n",
       "        vertical-align: top;\n",
       "    }\n",
       "\n",
       "    .dataframe thead th {\n",
       "        text-align: right;\n",
       "    }\n",
       "</style>\n",
       "<table border=\"1\" class=\"dataframe\">\n",
       "  <thead>\n",
       "    <tr style=\"text-align: right;\">\n",
       "      <th></th>\n",
       "      <th>city</th>\n",
       "      <th>average_cost_for_two</th>\n",
       "    </tr>\n",
       "  </thead>\n",
       "  <tbody>\n",
       "    <tr>\n",
       "      <th>1</th>\n",
       "      <td>Adelaide</td>\n",
       "      <td>416734.13</td>\n",
       "    </tr>\n",
       "  </tbody>\n",
       "</table>\n",
       "</div>"
      ],
      "text/plain": [
       "       city  average_cost_for_two\n",
       "1  Adelaide             416734.13"
      ]
     },
     "execution_count": 18,
     "metadata": {},
     "output_type": "execute_result"
    }
   ],
   "source": [
    "#4. Qual o nome da cidade que possui o maior valor médio de um prato para dois?\n",
    "\n",
    "valor_medio_prato_dois = df.groupby('city')['average_cost_for_two'].mean().reset_index()\n",
    "\n",
    "valor_medio_prato_dois['average_cost_for_two'] = valor_medio_prato_dois['average_cost_for_two'].round(2)\n",
    "\n",
    "cidade_maior_valor_medio_prato_dois = valor_medio_prato_dois.sort_values(by = 'average_cost_for_two', ascending = False).head(1)\n",
    "\n",
    "cidade_maior_valor_medio_prato_dois"
   ]
  },
  {
   "cell_type": "code",
   "execution_count": 43,
   "metadata": {},
   "outputs": [
    {
     "data": {
      "text/html": [
       "<div>\n",
       "<style scoped>\n",
       "    .dataframe tbody tr th:only-of-type {\n",
       "        vertical-align: middle;\n",
       "    }\n",
       "\n",
       "    .dataframe tbody tr th {\n",
       "        vertical-align: top;\n",
       "    }\n",
       "\n",
       "    .dataframe thead th {\n",
       "        text-align: right;\n",
       "    }\n",
       "</style>\n",
       "<table border=\"1\" class=\"dataframe\">\n",
       "  <thead>\n",
       "    <tr style=\"text-align: right;\">\n",
       "      <th></th>\n",
       "      <th>city</th>\n",
       "      <th>cuisines</th>\n",
       "    </tr>\n",
       "  </thead>\n",
       "  <tbody>\n",
       "    <tr>\n",
       "      <th>14</th>\n",
       "      <td>Birmingham</td>\n",
       "      <td>32</td>\n",
       "    </tr>\n",
       "  </tbody>\n",
       "</table>\n",
       "</div>"
      ],
      "text/plain": [
       "          city  cuisines\n",
       "14  Birmingham        32"
      ]
     },
     "execution_count": 43,
     "metadata": {},
     "output_type": "execute_result"
    }
   ],
   "source": [
    "#5. Qual o nome da cidade que possui a maior quantidade de tipos de culinária distintas?\n",
    "\n",
    "cidades_qtda_culinarias = df.groupby('city')['cuisines'].nunique().reset_index()\n",
    "\n",
    "cidades_mais_qtda_culinarias = cidades_qtda_culinarias.sort_values(by = 'cuisines', ascending = False).head(1)\n",
    "\n",
    "cidades_mais_qtda_culinarias"
   ]
  },
  {
   "cell_type": "code",
   "execution_count": 29,
   "metadata": {},
   "outputs": [
    {
     "data": {
      "text/plain": [
       "'Bangalore'"
      ]
     },
     "execution_count": 29,
     "metadata": {},
     "output_type": "execute_result"
    }
   ],
   "source": [
    "# 6. Qual o nome da cidade que possui a maior quantidade de restaurantes que fazem reservas?\n",
    "\n",
    "df_aux = df[(df['has_table_booking'] ==1)] \n",
    "\n",
    "qtda_restaurante_reserva = df_aux.groupby('city')['restaurant_id'].nunique()\n",
    "\n",
    "cidade_mais_reservas = qtda_restaurante_reserva.idxmax()\n",
    "\n",
    "cidade_mais_reservas\n"
   ]
  },
  {
   "cell_type": "code",
   "execution_count": 20,
   "metadata": {},
   "outputs": [
    {
     "data": {
      "text/plain": [
       "'Amritsar'"
      ]
     },
     "execution_count": 20,
     "metadata": {},
     "output_type": "execute_result"
    }
   ],
   "source": [
    "#7. Qual o nome da cidade que possui a maior quantidade de restaurantes que fazem entregas?\n",
    "\n",
    "df_aux = df[df['is_delivering_now'] == 1]\n",
    "\n",
    "qtda_restaurante_entregas = df_aux.groupby('city')['restaurant_id'].nunique()\n",
    "\n",
    "cidade_mais_restaurantes_entregas = qtda_restaurante_entregas.idxmax()\n",
    "\n",
    "cidade_mais_restaurantes_entregas\n"
   ]
  },
  {
   "cell_type": "code",
   "execution_count": 54,
   "metadata": {},
   "outputs": [
    {
     "data": {
      "text/plain": [
       "'Bhopal'"
      ]
     },
     "execution_count": 54,
     "metadata": {},
     "output_type": "execute_result"
    }
   ],
   "source": [
    "# 8. Qual o nome da cidade que possui a maior quantidade de restaurantes que aceitam pedidos online?\n",
    "\n",
    "df_aux_1 = df[df['has_online_delivery'] == 1]\n",
    "\n",
    "qtda_restaurante_online = df_aux_1.groupby('city')['restaurant_id'].nunique()\n",
    "\n",
    "cidade_mais_restaurantes_online = qtda_restaurante_online.idxmax()\n",
    "\n",
    "cidade_mais_restaurantes_online"
   ]
  },
  {
   "cell_type": "code",
   "execution_count": 56,
   "metadata": {},
   "outputs": [
    {
     "data": {
      "text/plain": [
       "\"Domino's Pizza\""
      ]
     },
     "execution_count": 56,
     "metadata": {},
     "output_type": "execute_result"
    }
   ],
   "source": [
    "# Restaurantes\n",
    "\n",
    "# 1. Qual o nome do restaurante que possui a maior quantidade de avaliações?\n",
    "\n",
    "qtda_avaliacoes = df.groupby('restaurant_name')['votes'].sum()\n",
    "\n",
    "restaurante_mais_avaliacoes = qtda_avaliacoes.idxmax()\n",
    "\n",
    "restaurante_mais_avaliacoes"
   ]
  },
  {
   "cell_type": "code",
   "execution_count": 57,
   "metadata": {},
   "outputs": [
    {
     "data": {
      "text/plain": [
       "'5 Napkin Burger'"
      ]
     },
     "execution_count": 57,
     "metadata": {},
     "output_type": "execute_result"
    }
   ],
   "source": [
    "# 2. Qual o nome do restaurante com a maior nota média?\n",
    "\n",
    "media_avaliacoes = df.groupby('restaurant_name')['aggregate_rating'].mean()\n",
    "\n",
    "restaurante_maior_media = media_avaliacoes.idxmax()\n",
    "\n",
    "restaurante_maior_media\n"
   ]
  },
  {
   "cell_type": "code",
   "execution_count": 60,
   "metadata": {},
   "outputs": [
    {
     "data": {
      "text/plain": [
       "\"d'Arry's Verandah Restaurant\""
      ]
     },
     "execution_count": 60,
     "metadata": {},
     "output_type": "execute_result"
    }
   ],
   "source": [
    "# 3. Qual o nome do restaurante que possui o maior valor de uma prato para duas pessoas?\n",
    "\n",
    "maior_valor_prato = df.groupby('restaurant_name')['average_cost_for_two'].max()\n",
    "\n",
    "restaurante_maior_valor_duas_pessoas = maior_valor_prato.idxmax()\n",
    "\n",
    "restaurante_maior_valor_duas_pessoas"
   ]
  },
  {
   "cell_type": "code",
   "execution_count": 65,
   "metadata": {},
   "outputs": [
    {
     "data": {
      "text/plain": [
       "'Bar do Luiz Fernandes'"
      ]
     },
     "execution_count": 65,
     "metadata": {},
     "output_type": "execute_result"
    }
   ],
   "source": [
    "# 4. Qual o nome do restaurante de tipo de culinária brasileira que possui a menor média de avaliação?\n",
    "\n",
    "df_aux = df[df['cuisines'] == 'Brazilian']\n",
    "\n",
    "media_avaliacao_restaurante = df_aux.groupby('restaurant_name')['aggregate_rating'].mean()\n",
    "\n",
    "restaurante_brasileiro_pior = media_avaliacao_restaurante.idxmin()\n",
    "\n",
    "restaurante_brasileiro_pior"
   ]
  },
  {
   "cell_type": "code",
   "execution_count": 67,
   "metadata": {},
   "outputs": [
    {
     "data": {
      "text/plain": [
       "'Aprazível'"
      ]
     },
     "execution_count": 67,
     "metadata": {},
     "output_type": "execute_result"
    }
   ],
   "source": [
    "# 5. Qual o nome do restaurante de tipo de culinária brasileira, e que é do Brasil, que possui a maior média de avaliação?\n",
    "\n",
    "df_aux = df[df['cuisines'] == 'Brazilian']\n",
    "\n",
    "media_avaliacao_restaurante = df_aux.groupby('restaurant_name')['aggregate_rating'].mean()\n",
    "\n",
    "restaurante_brasileiro_melhor = media_avaliacao_restaurante.idxmax()\n",
    "\n",
    "restaurante_brasileiro_melhor"
   ]
  },
  {
   "cell_type": "code",
   "execution_count": 21,
   "metadata": {},
   "outputs": [
    {
     "name": "stdout",
     "output_type": "stream",
     "text": [
      "Sim, os restaurantes que aceitam pedidos online tem mais avaliações\n"
     ]
    }
   ],
   "source": [
    "# 6. Os restaurantes que aceitam pedido online são também, na média, os restaurantes que mais possuem avaliações registradas?\n",
    "\n",
    "df_aux_1 = df[df['has_online_delivery'] == 1]\n",
    "df_aux_2 = df[df['has_online_delivery'] == 0] \n",
    "\n",
    "qtda_media_avaliacoes_online = df_aux_1['votes'].mean()\n",
    "\n",
    "qtda_media_avaliacoes_no = df_aux_2['votes'].mean()\n",
    "\n",
    "if qtda_media_avaliacoes_online > qtda_media_avaliacoes_no:\n",
    "    print(\"Sim, os restaurantes que aceitam pedidos online tem mais avaliações\")\n",
    "else:\n",
    "    print(\"Não, os restaurantes que não aceitam tem mais avaliações\")\n"
   ]
  },
  {
   "cell_type": "code",
   "execution_count": 4,
   "metadata": {},
   "outputs": [
    {
     "name": "stdout",
     "output_type": "stream",
     "text": [
      "Sim, os restaurantes que aceitam reserva tem preços mais caro para duas pessoas\n"
     ]
    }
   ],
   "source": [
    "# 7. Os restaurantes que fazem reservas são também, na média, os restaurantes que possuem o maior valor médio de um prato para duas pessoas?\n",
    "\n",
    "df_aux_1 = df[df['has_table_booking'] == 1]\n",
    "df_aux_2 = df[df['has_table_booking'] == 0]\n",
    "\n",
    "valor_medio_prato_dois_reserva = df_aux_1['average_cost_for_two'].mean()\n",
    "\n",
    "valor_medio_prato_dois_sem_reserva = df_aux_2['average_cost_for_two'].mean()\n",
    "\n",
    "if valor_medio_prato_dois_reserva > valor_medio_prato_dois_sem_reserva:\n",
    "    print(\"Sim, os restaurantes que aceitam reserva tem preços mais caro para duas pessoas\")\n",
    "else:\n",
    "    print(\"Não, os restaurantes que não aceitam reserva tem preços mais caro para duas pessoas\")"
   ]
  },
  {
   "cell_type": "code",
   "execution_count": 10,
   "metadata": {},
   "outputs": [
    {
     "name": "stdout",
     "output_type": "stream",
     "text": [
      "Sim, os restaurantes que servem comida japonesa tem preços mais caro para duas pessoas\n"
     ]
    }
   ],
   "source": [
    "# 8. Os restaurantes do tipo de culinária japonesa dos Estados Unidos da América possuem um valor médio de prato para duas pessoas maior que as churrascarias\n",
    "#  americanas (BBQ)?\n",
    "\n",
    "valor_medio_japonesea_eua = df[(df['cuisines'] == 'Japanese') & (df['country'] == 'United States of America')]['average_cost_for_two'].mean()\n",
    "\n",
    "valor_medio_bbq_eua = df[(df['cuisines'] == 'BBQ') & (df['country'] == 'United States of America')]['average_cost_for_two'].mean()\n",
    "\n",
    "if valor_medio_japonesea_eua > valor_medio_bbq_eua:\n",
    "    print(\"Sim, os restaurantes que servem comida japonesa tem preços mais caro para duas pessoas\")\n",
    "else:\n",
    "    print(\"Não, os restaurantes que que servem BBQ tem preços mais caro para duas pessoas\")\n"
   ]
  },
  {
   "cell_type": "code",
   "execution_count": null,
   "metadata": {},
   "outputs": [
    {
     "data": {
      "text/plain": [
       "'Amano Restaurant'"
      ]
     },
     "execution_count": 15,
     "metadata": {},
     "output_type": "execute_result"
    }
   ],
   "source": [
    "#Tipos de Culinária\n",
    "\n",
    "# 1. Dos restaurantes que possuem o tipo de culinária italiana, qual o nome do restaurante com a maior média de avaliação?\n",
    "\n",
    "media_aval_italiana = df[df['cuisines'] == 'Italian'].groupby('restaurant_name')['aggregate_rating'].mean()\n",
    "\n",
    "melhor_avaliado_restaurante_italiano = media_aval_italiana.idxmax()\n",
    "\n",
    "melhor_avaliado_restaurante_italiano"
   ]
  },
  {
   "cell_type": "code",
   "execution_count": 16,
   "metadata": {},
   "outputs": [
    {
     "data": {
      "text/plain": [
       "'Avenida Paulista'"
      ]
     },
     "execution_count": 16,
     "metadata": {},
     "output_type": "execute_result"
    }
   ],
   "source": [
    "#2. Dos restaurantes que possuem o tipo de culinária italiana, qual o nome do restaurante com a menor média de avaliação?\n",
    "\n",
    "media_aval_italiana = df[df['cuisines'] == 'Italian'].groupby('restaurant_name')['aggregate_rating'].mean()\n",
    "\n",
    "pior_avaliado_restaurante_italiano = media_aval_italiana.idxmin()\n",
    "\n",
    "pior_avaliado_restaurante_italiano"
   ]
  },
  {
   "cell_type": "code",
   "execution_count": 39,
   "metadata": {},
   "outputs": [
    {
     "data": {
      "text/plain": [
       "Index(['restaurant_id', 'restaurant_name', 'country_code', 'city', 'address',\n",
       "       'locality', 'locality_verbose', 'longitude', 'latitude', 'cuisines',\n",
       "       'average_cost_for_two', 'currency', 'has_table_booking',\n",
       "       'has_online_delivery', 'is_delivering_now', 'switch_to_order_menu',\n",
       "       'price_range', 'aggregate_rating', 'rating_color', 'rating_text',\n",
       "       'votes', 'country', 'price_type'],\n",
       "      dtype='object')"
      ]
     },
     "execution_count": 39,
     "metadata": {},
     "output_type": "execute_result"
    }
   ],
   "source": [
    "df.columns"
   ]
  },
  {
   "cell_type": "code",
   "execution_count": 38,
   "metadata": {},
   "outputs": [
    {
     "name": "stdout",
     "output_type": "stream",
     "text": [
      "['Italian' 'European' 'Filipino' 'American' 'Korean' 'Pizza' 'Taiwanese'\n",
      " 'Japanese' 'Coffee' 'Chinese' 'Seafood' 'Singaporean' 'Vietnamese'\n",
      " 'Latin American' 'Healthy Food' 'Cafe' 'Fast Food' 'Brazilian'\n",
      " 'Argentine' 'Arabian' 'Bakery' 'Tex-Mex' 'Bar Food' 'International'\n",
      " 'French' 'Steak' 'German' 'Sushi' 'Grill' 'Peruvian' 'North Eastern'\n",
      " 'Ice Cream' 'Burger' 'Mexican' 'Vegetarian' 'Contemporary' 'Desserts'\n",
      " 'Juices' 'Beverages' 'Spanish' 'Thai' 'Indian' 'Mineira' 'BBQ'\n",
      " 'Mongolian' 'Portuguese' 'Greek' 'Asian' 'Author' 'Gourmet Fast Food'\n",
      " 'Lebanese' 'Modern Australian' 'African' 'Coffee and Tea' 'Australian'\n",
      " 'Middle Eastern' 'Malaysian' 'Tapas' 'New American' 'Pub Food' 'Southern'\n",
      " 'Diner' 'Donuts' 'Southwestern' 'Sandwich' 'Irish' 'Mediterranean'\n",
      " 'Cafe Food' 'Korean BBQ' 'Fusion' 'Canadian' 'Breakfast' 'Cajun'\n",
      " 'New Mexican' 'Belgian' 'Cuban' 'Taco' 'Caribbean' 'Polish' 'Deli'\n",
      " 'British' nan 'California' 'Others' 'Eastern European' 'Creole' 'Ramen'\n",
      " 'Ukrainian' 'Hawaiian' 'Patisserie' 'Yum Cha' 'Pacific Northwest' 'Tea'\n",
      " 'Moroccan' 'Burmese' 'Dim Sum' 'Crepes' 'Fish and Chips' 'Russian'\n",
      " 'Continental' 'South Indian' 'North Indian' 'Salad' 'Finger Food' 'Mandi'\n",
      " 'Turkish' 'Kerala' 'Pakistani' 'Biryani' 'Street Food' 'Nepalese' 'Goan'\n",
      " 'Iranian' 'Mughlai' 'Rajasthani' 'Mithai' 'Maharashtrian' 'Gujarati'\n",
      " 'Rolls' 'Momos' 'Parsi' 'Modern Indian' 'Andhra' 'Tibetan' 'Kebab'\n",
      " 'Chettinad' 'Bengali' 'Assamese' 'Naga' 'Hyderabadi' 'Awadhi' 'Afghan'\n",
      " 'Lucknowi' 'Charcoal Chicken' 'Mangalorean' 'Egyptian' 'Malwani'\n",
      " 'Armenian' 'Roast Chicken' 'Indonesian' 'Western' 'Dimsum' 'Sunda' 'Kiwi'\n",
      " 'Asian Fusion' 'Pan Asian' 'Balti' 'Scottish' 'Cantonese' 'Sri Lankan'\n",
      " 'Khaleeji' 'South African' 'Drinks Only' 'Durban' 'World Cuisine'\n",
      " 'Izgara' 'Home-made' 'Giblets' 'Fresh Fish' 'Restaurant Cafe' 'Kumpir'\n",
      " 'Döner' 'Turkish Pizza' 'Ottoman' 'Old Turkish Bars' 'Kokoreç']\n"
     ]
    }
   ],
   "source": [
    "print(df['cuisines'].unique())"
   ]
  },
  {
   "cell_type": "code",
   "execution_count": 22,
   "metadata": {},
   "outputs": [
    {
     "data": {
      "text/plain": [
       "'5 Napkin Burger'"
      ]
     },
     "execution_count": 22,
     "metadata": {},
     "output_type": "execute_result"
    }
   ],
   "source": [
    "# 3. Dos restaurantes que possuem o tipo de culinária americana, qual o nome do restaurante com a maior média de avaliação?\n",
    "\n",
    "media_aval_americana = df[df['cuisines'] == 'American'].groupby('restaurant_name')['aggregate_rating'].mean()\n",
    "\n",
    "melhor_avaliado_restaurante_americana = media_aval_americana.idxmax()\n",
    "\n",
    "melhor_avaliado_restaurante_americana"
   ]
  },
  {
   "cell_type": "code",
   "execution_count": 23,
   "metadata": {},
   "outputs": [
    {
     "data": {
      "text/plain": [
       "'Alston Bar & Beef'"
      ]
     },
     "execution_count": 23,
     "metadata": {},
     "output_type": "execute_result"
    }
   ],
   "source": [
    "#4. Dos restaurantes que possuem o tipo de culinária americana, qual o nome do restaurante com a menor média de avaliação?\n",
    "\n",
    "media_aval_americana = df[df['cuisines'] == 'American'].groupby('restaurant_name')['aggregate_rating'].mean()\n",
    "\n",
    "pior_avaliado_restaurante_americana = media_aval_americana.idxmin()\n",
    "\n",
    "pior_avaliado_restaurante_americana"
   ]
  },
  {
   "cell_type": "code",
   "execution_count": 24,
   "metadata": {},
   "outputs": [
    {
     "data": {
      "text/plain": [
       "'Mandi@36'"
      ]
     },
     "execution_count": 24,
     "metadata": {},
     "output_type": "execute_result"
    }
   ],
   "source": [
    "# 5. Dos restaurantes que possuem o tipo de culinária árabe, qual o nome do restaurante com a maior média de avaliação?\n",
    "\n",
    "media_aval_arabian = df[df['cuisines'] == 'Arabian'].groupby('restaurant_name')['aggregate_rating'].mean()\n",
    "\n",
    "melhor_avaliado_restaurante_arabian = media_aval_arabian.idxmax()\n",
    "\n",
    "melhor_avaliado_restaurante_arabian"
   ]
  },
  {
   "cell_type": "code",
   "execution_count": 32,
   "metadata": {},
   "outputs": [
    {
     "data": {
      "text/plain": [
       "'Raful'"
      ]
     },
     "execution_count": 32,
     "metadata": {},
     "output_type": "execute_result"
    }
   ],
   "source": [
    "#  6. Dos restaurantes que possuem o tipo de culinária árabe, qual o nome do restaurante com a menor média de avaliação?\n",
    "\n",
    "media_aval_arabian = df[df['cuisines'] == 'Arabian'].groupby('restaurant_name')['aggregate_rating'].mean()\n",
    "\n",
    "pior_avaliado_restaurante_arabian = media_aval_arabian.idxmin()\n",
    "\n",
    "pior_avaliado_restaurante_arabian"
   ]
  },
  {
   "cell_type": "code",
   "execution_count": 27,
   "metadata": {},
   "outputs": [
    {
     "data": {
      "text/plain": [
       "'Chotto Matte'"
      ]
     },
     "execution_count": 27,
     "metadata": {},
     "output_type": "execute_result"
    }
   ],
   "source": [
    "# 7. Dos restaurantes que possuem o tipo de culinária japonesa, qual o nome do  restaurante com a maior média de avaliação?\n",
    "\n",
    "media_aval_japanese = df[df['cuisines'] == 'Japanese'].groupby('restaurant_name')['aggregate_rating'].mean()\n",
    "\n",
    "melhor_avaliado_restaurante_japanese = media_aval_japanese.idxmax()\n",
    "\n",
    "melhor_avaliado_restaurante_japanese"
   ]
  },
  {
   "cell_type": "code",
   "execution_count": 33,
   "metadata": {},
   "outputs": [
    {
     "data": {
      "text/plain": [
       "'Banzai Sushi'"
      ]
     },
     "execution_count": 33,
     "metadata": {},
     "output_type": "execute_result"
    }
   ],
   "source": [
    "#  8. Dos restaurantes que possuem o tipo de culinária japonesa, qual o nome do restaurante com a menor média de avaliação?\n",
    "\n",
    "media_aval_japanese = df[df['cuisines'] == 'Japanese'].groupby('restaurant_name')['aggregate_rating'].mean()\n",
    "\n",
    "pior_avaliado_restaurante_japanese = media_aval_japanese.idxmin()\n",
    "\n",
    "pior_avaliado_restaurante_japanese"
   ]
  },
  {
   "cell_type": "code",
   "execution_count": 4,
   "metadata": {},
   "outputs": [
    {
     "data": {
      "text/plain": [
       "'Kanaat Lokantası'"
      ]
     },
     "execution_count": 4,
     "metadata": {},
     "output_type": "execute_result"
    }
   ],
   "source": [
    "#  9. Dos restaurantes que possuem o tipo de culinária caseira, qual o nome do restaurante com a maior média de avaliação?\n",
    "\n",
    "media_aval_caseira = df[df['cuisines'] == 'Home-made'].groupby('restaurant_name')['aggregate_rating'].mean()\n",
    "\n",
    "melhor_avaliado_restaurante_caseira = media_aval_caseira.idxmax()\n",
    "\n",
    "melhor_avaliado_restaurante_caseira"
   ]
  },
  {
   "cell_type": "code",
   "execution_count": 3,
   "metadata": {},
   "outputs": [
    {
     "data": {
      "text/plain": [
       "'GurMekan Restaurant'"
      ]
     },
     "execution_count": 3,
     "metadata": {},
     "output_type": "execute_result"
    }
   ],
   "source": [
    "#  10. Dos restaurantes que possuem o tipo de culinária caseira, qual o nome do restaurante com a menor média de avaliação?\n",
    "\n",
    "media_aval_caseira = df[df['cuisines'] == 'Home-made'].groupby('restaurant_name')['aggregate_rating'].mean()\n",
    "\n",
    "pior_avaliado_restaurante_caseira = media_aval_caseira.idxmin()\n",
    "\n",
    "pior_avaliado_restaurante_caseira"
   ]
  },
  {
   "cell_type": "code",
   "execution_count": 40,
   "metadata": {},
   "outputs": [
    {
     "data": {
      "text/plain": [
       "'Modern Australian'"
      ]
     },
     "execution_count": 40,
     "metadata": {},
     "output_type": "execute_result"
    }
   ],
   "source": [
    "#  11. Qual o tipo de culinária que possui o maior valor médio de um prato para duas pessoas?\n",
    "\n",
    "valor_medio_culinaria_duas_pessoas = df.groupby('cuisines')['average_cost_for_two'].mean()\n",
    "\n",
    "maior_valor_medio_culinaria_duas_pessoas = valor_medio_culinaria_duas_pessoas.idxmax()\n",
    "\n",
    "maior_valor_medio_culinaria_duas_pessoas"
   ]
  },
  {
   "cell_type": "code",
   "execution_count": 41,
   "metadata": {},
   "outputs": [
    {
     "data": {
      "text/plain": [
       "'Others'"
      ]
     },
     "execution_count": 41,
     "metadata": {},
     "output_type": "execute_result"
    }
   ],
   "source": [
    "#  12. Qual o tipo de culinária que possui a maior nota média?\n",
    "\n",
    "nota_media_culinaria = df.groupby('cuisines')['aggregate_rating'].mean()\n",
    "\n",
    "maior_nota_media_culinaria = nota_media_culinaria.idxmax()\n",
    "\n",
    "maior_nota_media_culinaria"
   ]
  },
  {
   "cell_type": "code",
   "execution_count": 2,
   "metadata": {},
   "outputs": [
    {
     "data": {
      "text/plain": [
       "Index(['restaurant_id', 'restaurant_name', 'country_code', 'city', 'address',\n",
       "       'locality', 'locality_verbose', 'longitude', 'latitude', 'cuisines',\n",
       "       'average_cost_for_two', 'currency', 'has_table_booking',\n",
       "       'has_online_delivery', 'is_delivering_now', 'switch_to_order_menu',\n",
       "       'price_range', 'aggregate_rating', 'rating_color', 'rating_text',\n",
       "       'votes', 'country', 'price_type'],\n",
       "      dtype='object')"
      ]
     },
     "execution_count": 2,
     "metadata": {},
     "output_type": "execute_result"
    }
   ],
   "source": [
    " # 13. Qual o tipo de culinária que possui mais restaurantes que aceitam pedidos online e fazem entregas?\n",
    "\n",
    "df.columns\n"
   ]
  }
 ],
 "metadata": {
  "kernelspec": {
   "display_name": "Python 3",
   "language": "python",
   "name": "python3"
  },
  "language_info": {
   "codemirror_mode": {
    "name": "ipython",
    "version": 3
   },
   "file_extension": ".py",
   "mimetype": "text/x-python",
   "name": "python",
   "nbconvert_exporter": "python",
   "pygments_lexer": "ipython3",
   "version": "3.11.9"
  }
 },
 "nbformat": 4,
 "nbformat_minor": 2
}
