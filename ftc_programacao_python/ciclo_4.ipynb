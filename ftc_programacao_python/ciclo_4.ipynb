{
 "cells": [
  {
   "cell_type": "code",
   "execution_count": null,
   "metadata": {},
   "outputs": [],
   "source": [
    "import pandas as pd\n",
    "import io\n",
    "import re\n",
    "\n",
    "df = pd.read_csv(\"C:/Users/Thiago/Documents/repos/ftc_programacao_python/train.csv\")\n",
    "\n",
    "linhas_selecionadas = (df[\"Delivery_person_Age\"] != \"Nan \")\n",
    "df = df.loc[linhas_selecionadas, :].copy()\n",
    "\n",
    "df[\"Delivery_person_Age\"] = df[\"Delivery_person_Age\"].astype( int )\n",
    "df.shape\n",
    "\n",
    "df[\"Delivery_person_Ratings\"] = df['Delivery_person_Ratings'].astype( float )\n",
    "\n",
    "df[\"Order_Date\"] = pd.to_datetime( df['Order_Date'], format='%d-%m-%Y' )\n",
    "\n",
    "linhas_selecionadas = (df['multiple_deliveries'] != \"NaN\" )\n",
    "df = df.loc[linhas_selecionadas, :].copy()\n",
    "df['multiple_deliveries'] = df['multiple_deliveries'].astype( int )\n",
    "\n",
    "\n",
    "##for i in range( len( df ) ):\n",
    "##    df.loc[i, 'ID'] = df.loc[i, 'ID'].strip()\n",
    "##    df.loc[i, 'Delivery_person_ID'] = df.loc[i, 'Delivery_person_ID'].strip()\n",
    "\n",
    "##linhas_vazias = df['Delivery_person_Age'] != 'NaN '\n",
    "##df = df.loc[linhas_vazias, :]\n"
   ]
  },
  {
   "cell_type": "code",
   "execution_count": 23,
   "metadata": {},
   "outputs": [
    {
     "name": "stdout",
     "output_type": "stream",
     "text": [
      "(42752, 20)\n"
     ]
    }
   ],
   "source": [
    "import pandas as pd\n",
    "import io\n",
    "import re\n",
    "\n",
    "# Ler o arquivo CSV\n",
    "df = pd.read_csv(\"C:/Users/Thiago/Documents/repos/ftc_programacao_python/train.csv\")\n",
    "\n",
    "# Remover linhas onde a idade do entregador é NaN\n",
    "linhas_selecionadas = df[\"Delivery_person_Age\"].notna()\n",
    "df = df.loc[linhas_selecionadas, :].copy()\n",
    "\n",
    "# Converter a idade do entregador para numérico, lidando com erros\n",
    "df[\"Delivery_person_Age\"] = pd.to_numeric(df[\"Delivery_person_Age\"], errors='coerce')\n",
    "\n",
    "# Remover linhas com NaN após conversão\n",
    "df = df[df[\"Delivery_person_Age\"].notna()]\n",
    "\n",
    "# Converter a idade do entregador para inteiro\n",
    "df[\"Delivery_person_Age\"] = df[\"Delivery_person_Age\"].astype(int)\n",
    "\n",
    "# Converter as classificações dos entregadores para float, lidando com erros\n",
    "df[\"Delivery_person_Ratings\"] = pd.to_numeric(df['Delivery_person_Ratings'], errors='coerce')\n",
    "df = df[df[\"Delivery_person_Ratings\"].notna()]  # Remover linhas com NaN\n",
    "\n",
    "# Converter a data do pedido para datetime\n",
    "df[\"Order_Date\"] = pd.to_datetime(df['Order_Date'], format='%d-%m-%Y')\n",
    "\n",
    "# Remover linhas onde o número de entregas múltiplas é NaN\n",
    "linhas_selecionadas = df['multiple_deliveries'].notna()\n",
    "df = df.loc[linhas_selecionadas, :].copy()\n",
    "\n",
    "# Converter múltiplas entregas para inteiro, lidando com erros\n",
    "df['multiple_deliveries'] = pd.to_numeric(df['multiple_deliveries'], errors='coerce')\n",
    "df = df[df['multiple_deliveries'].notna()]  # Remover linhas com NaN\n",
    "\n",
    "# Converter múltiplas entregas para inteiro\n",
    "df['multiple_deliveries'] = df['multiple_deliveries'].astype(int)\n",
    "\n",
    "df.loc[:, 'ID'] = df.loc[:, 'ID'].str.strip()\n",
    "df.loc[:, 'Road_traffic_density'] = df.loc[:, 'Road_traffic_density'].str.strip()\n",
    "df.loc[:, 'Type_of_order'] = df.loc[:, 'Type_of_order'].str.strip()\n",
    "df.loc[:, 'Type_of_vehicle'] = df.loc[:, 'Type_of_vehicle'].str.strip()\n",
    "df.loc[:, 'City'] = df.loc[:, 'City'].str.strip()\n",
    "\n",
    "# Exibir a forma do DataFrame\n",
    "print(df.shape)"
   ]
  },
  {
   "cell_type": "code",
   "execution_count": 12,
   "metadata": {},
   "outputs": [],
   "source": [
    "linhas_vazias = df['multiple_deliveries'] != 'NaN '\n",
    "df = df.loc[linhas_vazias, :]\n",
    "df['multiple_deliveries'] = df['multiple_deliveries'].astype(int)"
   ]
  },
  {
   "cell_type": "code",
   "execution_count": null,
   "metadata": {},
   "outputs": [],
   "source": [
    "linhas_condicional_verdadeira = df[\"Delivery_person_Age\"] > \"35\"\n",
    "colunas_selecionadas = [\"ID\", \"Delivery_person_Age\"]\n",
    "\n",
    "df.loc[linhas_condicional_verdadeira,colunas_selecionadas]\n"
   ]
  },
  {
   "cell_type": "code",
   "execution_count": 8,
   "metadata": {},
   "outputs": [
    {
     "name": "stdout",
     "output_type": "stream",
     "text": [
      "Total de entregadores ativos:  1320\n"
     ]
    }
   ],
   "source": [
    "##2. Qual o número total de entregadores únicos cadastrados na base de dados?\n",
    "\n",
    "total_entregadores = df[\"Delivery_person_ID\"].nunique()\n",
    "print(\"Total de entregadores ativos: \", total_entregadores)"
   ]
  },
  {
   "cell_type": "code",
   "execution_count": 9,
   "metadata": {},
   "outputs": [
    {
     "data": {
      "text/plain": [
       "42752"
      ]
     },
     "execution_count": 9,
     "metadata": {},
     "output_type": "execute_result"
    }
   ],
   "source": [
    "df.shape[0]"
   ]
  },
  {
   "cell_type": "code",
   "execution_count": 65,
   "metadata": {},
   "outputs": [
    {
     "name": "stdout",
     "output_type": "stream",
     "text": [
      "o entregador mais velho possui 50\n",
      "o entregador mais velho possui 15\n"
     ]
    }
   ],
   "source": [
    "###3. Qual a idade do entregador mais velho? E do mais novo?\n",
    "\n",
    "df.dropna(subset=[\"Delivery_person_Age\"])\n",
    "entregador_mais_velho = df[\"Delivery_person_Age\"].max()\n",
    "entregador_mais_novo = df[\"Delivery_person_Age\"].min()\n",
    "\n",
    "print(f\"o entregador mais velho possui\", entregador_mais_velho)\n",
    "print(f\"o entregador mais velho possui\", entregador_mais_novo)\n"
   ]
  },
  {
   "cell_type": "code",
   "execution_count": 3,
   "metadata": {},
   "outputs": [
    {
     "name": "stdout",
     "output_type": "stream",
     "text": [
      "50\n",
      "15\n",
      "KNPRES16DEL02\n"
     ]
    }
   ],
   "source": [
    "###4. Qual o ID do entregador com a maior idade? E o ID do entregaor com a menor idade?\n",
    "\n",
    "df_aux = df.sort_values(\"Delivery_person_Age\",ascending=False)\n",
    "print(df_aux.iloc[0,2])\n",
    "print(df_aux.iloc[-1,2])\n",
    "print(df_aux.iloc[0,1])"
   ]
  },
  {
   "cell_type": "code",
   "execution_count": 5,
   "metadata": {},
   "outputs": [
    {
     "data": {
      "text/plain": [
       "array(['conditions Sunny', 'conditions Stormy', 'conditions Sandstorms',\n",
       "       'conditions Cloudy', 'conditions Fog', 'conditions Windy',\n",
       "       'conditions NaN'], dtype=object)"
      ]
     },
     "execution_count": 5,
     "metadata": {},
     "output_type": "execute_result"
    }
   ],
   "source": [
    "###5. Quais os nomes das condições climáticas?\n",
    "tipo = df.dropna(subset=\"Weatherconditions\")\n",
    "df.loc[:, \"Weatherconditions\"].unique()"
   ]
  },
  {
   "cell_type": "code",
   "execution_count": 61,
   "metadata": {},
   "outputs": [
    {
     "name": "stdout",
     "output_type": "stream",
     "text": [
      "7321\n"
     ]
    }
   ],
   "source": [
    "###6. Quantas entregas foram realizadas sob condições climáticas de tempestade de areia? ( Sandstorms )\n",
    "\n",
    "total_entregas = df[df[\"Weatherconditions\"] == \"conditions Sandstorms\"][\"ID\"].nunique()\n",
    "\n",
    "print(total_entregas)"
   ]
  },
  {
   "cell_type": "code",
   "execution_count": 7,
   "metadata": {},
   "outputs": [
    {
     "data": {
      "text/plain": [
       "7245"
      ]
     },
     "execution_count": 7,
     "metadata": {},
     "output_type": "execute_result"
    }
   ],
   "source": [
    "condition = \"conditions Sandstorms\"\n",
    "\n",
    "filtro = df[\"Weatherconditions\"] ==\"conditions Sandstorms\"\n",
    "\n",
    "len(df.loc[filtro,\"ID\"])"
   ]
  },
  {
   "cell_type": "code",
   "execution_count": 14,
   "metadata": {},
   "outputs": [
    {
     "name": "stdout",
     "output_type": "stream",
     "text": [
      "194     conditions Sunny\n",
      "241     conditions Sunny\n",
      "259    conditions Stormy\n",
      "389     conditions Sunny\n",
      "412     conditions Windy\n",
      "427    conditions Cloudy\n",
      "455    conditions Cloudy\n",
      "472     conditions Windy\n",
      "508    conditions Cloudy\n",
      "509     conditions Sunny\n",
      "Name: Weatherconditions, dtype: object\n"
     ]
    }
   ],
   "source": [
    "###7. Quais eram as condicões climáticas da data mais recente de entrega?\n",
    "\n",
    "\n",
    "\n",
    "df['Order_Date'] = pd.to_datetime(df['Order_Date'])\n",
    "\n",
    "data_limite = df['Order_Date'].max()\n",
    "df_filtrados = df[df['Order_Date'] == data_limite]\n",
    "\n",
    "condicoes_climaticas = df_filtrados.head(10)['Weatherconditions']\n",
    "\n",
    "print(condicoes_climaticas)\n",
    "\n",
    "\n"
   ]
  },
  {
   "cell_type": "code",
   "execution_count": 15,
   "metadata": {},
   "outputs": [
    {
     "name": "stdout",
     "output_type": "stream",
     "text": [
      "conditions Sandstorms\n"
     ]
    }
   ],
   "source": [
    "##Resolução curso\n",
    "\n",
    "df_aux = df.sort_values(\"Order_Date\", ascending=False)\n",
    "\n",
    "print(df_aux.iloc[0, 11])"
   ]
  },
  {
   "cell_type": "code",
   "execution_count": 16,
   "metadata": {},
   "outputs": [
    {
     "name": "stdout",
     "output_type": "stream",
     "text": [
      "exitem as seguintes densidades ['High ' 'Jam ' 'Low ' 'Medium ' 'NaN ']\n",
      "totalizando 5\n"
     ]
    }
   ],
   "source": [
    "##. 8Quantos tipos de densidade de trânsito existem na base de dados? Quais os nomes delas?\n",
    "\n",
    "tipo_de_densidade = df['Road_traffic_density'].unique()\n",
    "qtda_tipos = df['Road_traffic_density'].nunique()\n",
    "\n",
    "print(f'exitem as seguintes densidades',tipo_de_densidade)\n",
    "print(f'totalizando', qtda_tipos)"
   ]
  },
  {
   "cell_type": "code",
   "execution_count": 17,
   "metadata": {},
   "outputs": [
    {
     "name": "stdout",
     "output_type": "stream",
     "text": [
      " A condição climatica conditions Sunny teve 6893 entregas\n",
      " A condição climatica conditions Stormy teve 7218 entregas\n",
      " A condição climatica conditions Sandstorms teve 7077 entregas\n",
      " A condição climatica conditions Cloudy teve 7124 entregas\n",
      " A condição climatica conditions Fog teve 7283 entregas\n",
      " A condição climatica conditions Windy teve 7066 entregas\n",
      " A condição climatica conditions NaN teve 91 entregas\n"
     ]
    }
   ],
   "source": [
    "###9. Quantas entregas foram feitas em cada condição climática?\n",
    "\n",
    "condicoes = list(df[\"Weatherconditions\"].unique()) \n",
    "\n",
    "condicoes\n",
    "\n",
    "for tempo in condicoes:\n",
    "   print(f' A condição climatica {tempo} teve {df.loc[df[\"Weatherconditions\"] == tempo, :].shape[0]} entregas')\n",
    "    \n"
   ]
  },
  {
   "cell_type": "code",
   "execution_count": 18,
   "metadata": {},
   "outputs": [
    {
     "name": "stdout",
     "output_type": "stream",
     "text": [
      "['INDORES13DEL02 ' 'BANGRES18DEL02 ' 'BANGRES19DEL01 ' ...\n",
      " 'BHPRES06DEL03 ' 'GOARES03DEL03 ' 'GOARES01DEL03 ']\n"
     ]
    }
   ],
   "source": [
    "## 10.Quantos entregadores unicos fizeram entregas em cada condição climatica?\n",
    "\n",
    "entregadores = df[\"Delivery_person_ID\"].unique()\n",
    "\n",
    "print(entregadores)"
   ]
  },
  {
   "cell_type": "code",
   "execution_count": 19,
   "metadata": {},
   "outputs": [
    {
     "name": "stdout",
     "output_type": "stream",
     "text": [
      " A condição climatica conditions Sunny teve 1230 entregadores unicos\n",
      " A condição climatica conditions Stormy teve 1233 entregadores unicos\n",
      " A condição climatica conditions Sandstorms teve 1239 entregadores unicos\n",
      " A condição climatica conditions Cloudy teve 1244 entregadores unicos\n",
      " A condição climatica conditions Fog teve 1250 entregadores unicos\n",
      " A condição climatica conditions Windy teve 1230 entregadores unicos\n",
      " A condição climatica conditions NaN teve 87 entregadores unicos\n"
     ]
    }
   ],
   "source": [
    "condicoes = list(df[\"Weatherconditions\"].unique()) \n",
    "\n",
    "condicoes\n",
    "\n",
    "for tempo in condicoes:\n",
    "   print(f' A condição climatica {tempo} teve {df.loc[df[\"Weatherconditions\"] == tempo, \"Delivery_person_ID\"].nunique()} entregadores unicos')"
   ]
  },
  {
   "cell_type": "code",
   "execution_count": 20,
   "metadata": {},
   "outputs": [
    {
     "name": "stdout",
     "output_type": "stream",
     "text": [
      " A condição climatica High  teve 4210 entregas\n",
      " A condição climatica Jam  teve 13465 entregas\n",
      " A condição climatica Low  teve 14583 entregas\n",
      " A condição climatica Medium  teve 10403 entregas\n",
      " A condição climatica NaN  teve 91 entregas\n"
     ]
    }
   ],
   "source": [
    "## 11 Quantas entregas foram feitas em cada tipo de densidade de trânsito?\n",
    "\n",
    "condicoes = list(df[\"Road_traffic_density\"].unique()) \n",
    "\n",
    "condicoes\n",
    "\n",
    "for tipo in condicoes:\n",
    "   print(f' A condição climatica {tipo} teve {df.loc[df[\"Road_traffic_density\"] == tipo, \"ID\"].nunique()} entregas')"
   ]
  },
  {
   "cell_type": "code",
   "execution_count": 21,
   "metadata": {},
   "outputs": [
    {
     "data": {
      "text/plain": [
       "Index(['ID', 'Delivery_person_ID', 'Delivery_person_Age',\n",
       "       'Delivery_person_Ratings', 'Restaurant_latitude',\n",
       "       'Restaurant_longitude', 'Delivery_location_latitude',\n",
       "       'Delivery_location_longitude', 'Order_Date', 'Time_Orderd',\n",
       "       'Time_Order_picked', 'Weatherconditions', 'Road_traffic_density',\n",
       "       'Vehicle_condition', 'Type_of_order', 'Type_of_vehicle',\n",
       "       'multiple_deliveries', 'Festival', 'City', 'Time_taken(min)'],\n",
       "      dtype='object')"
      ]
     },
     "execution_count": 21,
     "metadata": {},
     "output_type": "execute_result"
    }
   ],
   "source": [
    "df.columns"
   ]
  },
  {
   "cell_type": "code",
   "execution_count": 22,
   "metadata": {},
   "outputs": [
    {
     "name": "stdout",
     "output_type": "stream",
     "text": [
      "4\n",
      "['Urban ' 'Metropolitian ' 'Semi-Urban ' 'NaN ']\n"
     ]
    }
   ],
   "source": [
    "##13 . Quantas cidades unicas existem na base ? Quais são seus nomes?\n",
    "\n",
    "print(len(df[\"City\"].unique()))\n",
    "print(df[\"City\"].unique())"
   ]
  },
  {
   "cell_type": "code",
   "execution_count": 37,
   "metadata": {},
   "outputs": [
    {
     "name": "stdout",
     "output_type": "stream",
     "text": [
      "4\n"
     ]
    }
   ],
   "source": [
    "##14. Quantos tipos de veiculos existem na base?\n",
    "\n",
    "\n",
    "print(len(df[\"Type_of_vehicle\"].unique()))"
   ]
  },
  {
   "cell_type": "code",
   "execution_count": 45,
   "metadata": {},
   "outputs": [
    {
     "ename": "NameError",
     "evalue": "name 'num_entregas' is not defined",
     "output_type": "error",
     "traceback": [
      "\u001b[1;31m---------------------------------------------------------------------------\u001b[0m",
      "\u001b[1;31mNameError\u001b[0m                                 Traceback (most recent call last)",
      "Cell \u001b[1;32mIn[45], line 7\u001b[0m\n\u001b[0;32m      5\u001b[0m \u001b[38;5;28;01mfor\u001b[39;00m tipo \u001b[38;5;129;01min\u001b[39;00m veiculo:\n\u001b[0;32m      6\u001b[0m    num_enregas \u001b[38;5;241m=\u001b[39m df[(df[\u001b[38;5;124m\"\u001b[39m\u001b[38;5;124mType_of_vehicle\u001b[39m\u001b[38;5;124m\"\u001b[39m]\u001b[38;5;241m==\u001b[39m tipo) \u001b[38;5;241m&\u001b[39m (df[\u001b[38;5;124m\"\u001b[39m\u001b[38;5;124mRoad_traffic_density\u001b[39m\u001b[38;5;124m\"\u001b[39m] \u001b[38;5;241m==\u001b[39m \u001b[38;5;124m\"\u001b[39m\u001b[38;5;124mHigh \u001b[39m\u001b[38;5;124m\"\u001b[39m)]\n\u001b[1;32m----> 7\u001b[0m    \u001b[38;5;28mprint\u001b[39m(\u001b[38;5;124mf\u001b[39m\u001b[38;5;124m'\u001b[39m\u001b[38;5;124mO tipo \u001b[39m\u001b[38;5;132;01m{\u001b[39;00mtipo\u001b[38;5;132;01m}\u001b[39;00m\u001b[38;5;124m teve \u001b[39m\u001b[38;5;132;01m{\u001b[39;00m\u001b[43mnum_entregas\u001b[49m\u001b[38;5;241m.\u001b[39mshape[\u001b[38;5;241m0\u001b[39m]\u001b[38;5;132;01m}\u001b[39;00m\u001b[38;5;124m entregas\u001b[39m\u001b[38;5;124m'\u001b[39m)\n",
      "\u001b[1;31mNameError\u001b[0m: name 'num_entregas' is not defined"
     ]
    }
   ],
   "source": [
    "##15.Qual o tipo de veiculo que mais vez entregas com a condição de transito pesado?(High)\n",
    "\n",
    "veiculo = list(df[\"Type_of_vehicle\"].unique())\n",
    "\n",
    "for tipo in veiculo:\n",
    "   num_enregas = df[(df[\"Type_of_vehicle\"]== tipo) & (df[\"Road_traffic_density\"] == \"High \")]\n",
    "   print(f'O tipo {tipo} teve {num_entregas.shape[0]} entregas')"
   ]
  },
  {
   "cell_type": "markdown",
   "metadata": {},
   "source": [
    "##AULA POR AGRUPAMENTO:"
   ]
  },
  {
   "cell_type": "code",
   "execution_count": 28,
   "metadata": {},
   "outputs": [
    {
     "data": {
      "text/html": [
       "<div>\n",
       "<style scoped>\n",
       "    .dataframe tbody tr th:only-of-type {\n",
       "        vertical-align: middle;\n",
       "    }\n",
       "\n",
       "    .dataframe tbody tr th {\n",
       "        vertical-align: top;\n",
       "    }\n",
       "\n",
       "    .dataframe thead th {\n",
       "        text-align: right;\n",
       "    }\n",
       "</style>\n",
       "<table border=\"1\" class=\"dataframe\">\n",
       "  <thead>\n",
       "    <tr style=\"text-align: right;\">\n",
       "      <th></th>\n",
       "      <th>City</th>\n",
       "      <th>Type_of_vehicle</th>\n",
       "      <th>Delivery_person_Age</th>\n",
       "    </tr>\n",
       "  </thead>\n",
       "  <tbody>\n",
       "    <tr>\n",
       "      <th>0</th>\n",
       "      <td>Metropolitian</td>\n",
       "      <td>bicycle</td>\n",
       "      <td>31.333333</td>\n",
       "    </tr>\n",
       "    <tr>\n",
       "      <th>1</th>\n",
       "      <td>Metropolitian</td>\n",
       "      <td>electric_scooter</td>\n",
       "      <td>29.960572</td>\n",
       "    </tr>\n",
       "    <tr>\n",
       "      <th>2</th>\n",
       "      <td>Metropolitian</td>\n",
       "      <td>motorcycle</td>\n",
       "      <td>29.755246</td>\n",
       "    </tr>\n",
       "    <tr>\n",
       "      <th>3</th>\n",
       "      <td>Metropolitian</td>\n",
       "      <td>scooter</td>\n",
       "      <td>29.817310</td>\n",
       "    </tr>\n",
       "    <tr>\n",
       "      <th>4</th>\n",
       "      <td>NaN</td>\n",
       "      <td>electric_scooter</td>\n",
       "      <td>29.579545</td>\n",
       "    </tr>\n",
       "    <tr>\n",
       "      <th>5</th>\n",
       "      <td>NaN</td>\n",
       "      <td>motorcycle</td>\n",
       "      <td>28.898276</td>\n",
       "    </tr>\n",
       "    <tr>\n",
       "      <th>6</th>\n",
       "      <td>NaN</td>\n",
       "      <td>scooter</td>\n",
       "      <td>28.559633</td>\n",
       "    </tr>\n",
       "    <tr>\n",
       "      <th>7</th>\n",
       "      <td>Semi-Urban</td>\n",
       "      <td>electric_scooter</td>\n",
       "      <td>36.000000</td>\n",
       "    </tr>\n",
       "    <tr>\n",
       "      <th>8</th>\n",
       "      <td>Semi-Urban</td>\n",
       "      <td>motorcycle</td>\n",
       "      <td>32.378571</td>\n",
       "    </tr>\n",
       "    <tr>\n",
       "      <th>9</th>\n",
       "      <td>Semi-Urban</td>\n",
       "      <td>scooter</td>\n",
       "      <td>34.333333</td>\n",
       "    </tr>\n",
       "    <tr>\n",
       "      <th>10</th>\n",
       "      <td>Urban</td>\n",
       "      <td>electric_scooter</td>\n",
       "      <td>28.986352</td>\n",
       "    </tr>\n",
       "    <tr>\n",
       "      <th>11</th>\n",
       "      <td>Urban</td>\n",
       "      <td>motorcycle</td>\n",
       "      <td>28.934807</td>\n",
       "    </tr>\n",
       "    <tr>\n",
       "      <th>12</th>\n",
       "      <td>Urban</td>\n",
       "      <td>scooter</td>\n",
       "      <td>28.857394</td>\n",
       "    </tr>\n",
       "  </tbody>\n",
       "</table>\n",
       "</div>"
      ],
      "text/plain": [
       "             City   Type_of_vehicle  Delivery_person_Age\n",
       "0   Metropolitian           bicycle            31.333333\n",
       "1   Metropolitian  electric_scooter            29.960572\n",
       "2   Metropolitian        motorcycle            29.755246\n",
       "3   Metropolitian           scooter            29.817310\n",
       "4             NaN  electric_scooter            29.579545\n",
       "5             NaN        motorcycle            28.898276\n",
       "6             NaN           scooter            28.559633\n",
       "7      Semi-Urban  electric_scooter            36.000000\n",
       "8      Semi-Urban        motorcycle            32.378571\n",
       "9      Semi-Urban           scooter            34.333333\n",
       "10          Urban  electric_scooter            28.986352\n",
       "11          Urban        motorcycle            28.934807\n",
       "12          Urban           scooter            28.857394"
      ]
     },
     "execution_count": 28,
     "metadata": {},
     "output_type": "execute_result"
    }
   ],
   "source": [
    "##Quantidade de entregas por cidade\n",
    "\n",
    "cols = ['Delivery_person_Age', 'City', 'Type_of_vehicle']\n",
    "\n",
    "df.loc[:, cols].groupby(['City', 'Type_of_vehicle']).mean().reset_index()"
   ]
  },
  {
   "cell_type": "code",
   "execution_count": 32,
   "metadata": {},
   "outputs": [
    {
     "data": {
      "text/plain": [
       "np.int64(42752)"
      ]
     },
     "execution_count": 32,
     "metadata": {},
     "output_type": "execute_result"
    }
   ],
   "source": [
    "## Qual o número total de entregadores cadastrados na base de dados?\n",
    "\n",
    "df['Delivery_person_ID'].count()\n"
   ]
  },
  {
   "cell_type": "code",
   "execution_count": 33,
   "metadata": {},
   "outputs": [
    {
     "data": {
      "text/plain": [
       "1320"
      ]
     },
     "execution_count": 33,
     "metadata": {},
     "output_type": "execute_result"
    }
   ],
   "source": [
    "##2. Qual o número total de entregadores únicos cadastrados na base de dados?\n",
    "\n",
    "df['Delivery_person_ID'].nunique()"
   ]
  },
  {
   "cell_type": "code",
   "execution_count": 37,
   "metadata": {},
   "outputs": [
    {
     "data": {
      "text/html": [
       "<div>\n",
       "<style scoped>\n",
       "    .dataframe tbody tr th:only-of-type {\n",
       "        vertical-align: middle;\n",
       "    }\n",
       "\n",
       "    .dataframe tbody tr th {\n",
       "        vertical-align: top;\n",
       "    }\n",
       "\n",
       "    .dataframe thead th {\n",
       "        text-align: right;\n",
       "    }\n",
       "</style>\n",
       "<table border=\"1\" class=\"dataframe\">\n",
       "  <thead>\n",
       "    <tr style=\"text-align: right;\">\n",
       "      <th></th>\n",
       "      <th>City</th>\n",
       "      <th>Delivery_person_Age</th>\n",
       "    </tr>\n",
       "  </thead>\n",
       "  <tbody>\n",
       "    <tr>\n",
       "      <th>0</th>\n",
       "      <td>Metropolitian</td>\n",
       "      <td>29.792810</td>\n",
       "    </tr>\n",
       "    <tr>\n",
       "      <th>1</th>\n",
       "      <td>NaN</td>\n",
       "      <td>28.818841</td>\n",
       "    </tr>\n",
       "    <tr>\n",
       "      <th>2</th>\n",
       "      <td>Semi-Urban</td>\n",
       "      <td>32.565789</td>\n",
       "    </tr>\n",
       "    <tr>\n",
       "      <th>3</th>\n",
       "      <td>Urban</td>\n",
       "      <td>28.911424</td>\n",
       "    </tr>\n",
       "  </tbody>\n",
       "</table>\n",
       "</div>"
      ],
      "text/plain": [
       "            City  Delivery_person_Age\n",
       "0  Metropolitian            29.792810\n",
       "1            NaN            28.818841\n",
       "2     Semi-Urban            32.565789\n",
       "3          Urban            28.911424"
      ]
     },
     "execution_count": 37,
     "metadata": {},
     "output_type": "execute_result"
    }
   ],
   "source": [
    "##2. Qual a média de idade dos entregadores por cidade?\n",
    "\n",
    "cols = ['Delivery_person_Age', 'City']\n",
    "\n",
    "df.loc[:, cols].groupby(['City']).mean().reset_index()"
   ]
  },
  {
   "cell_type": "code",
   "execution_count": 39,
   "metadata": {},
   "outputs": [
    {
     "data": {
      "text/html": [
       "<div>\n",
       "<style scoped>\n",
       "    .dataframe tbody tr th:only-of-type {\n",
       "        vertical-align: middle;\n",
       "    }\n",
       "\n",
       "    .dataframe tbody tr th {\n",
       "        vertical-align: top;\n",
       "    }\n",
       "\n",
       "    .dataframe thead th {\n",
       "        text-align: right;\n",
       "    }\n",
       "</style>\n",
       "<table border=\"1\" class=\"dataframe\">\n",
       "  <thead>\n",
       "    <tr style=\"text-align: right;\">\n",
       "      <th></th>\n",
       "      <th>City</th>\n",
       "      <th>Delivery_person_Age</th>\n",
       "    </tr>\n",
       "  </thead>\n",
       "  <tbody>\n",
       "    <tr>\n",
       "      <th>0</th>\n",
       "      <td>Metropolitian</td>\n",
       "      <td>30.0</td>\n",
       "    </tr>\n",
       "    <tr>\n",
       "      <th>1</th>\n",
       "      <td>NaN</td>\n",
       "      <td>28.0</td>\n",
       "    </tr>\n",
       "    <tr>\n",
       "      <th>2</th>\n",
       "      <td>Semi-Urban</td>\n",
       "      <td>32.0</td>\n",
       "    </tr>\n",
       "    <tr>\n",
       "      <th>3</th>\n",
       "      <td>Urban</td>\n",
       "      <td>28.0</td>\n",
       "    </tr>\n",
       "  </tbody>\n",
       "</table>\n",
       "</div>"
      ],
      "text/plain": [
       "            City  Delivery_person_Age\n",
       "0  Metropolitian                 30.0\n",
       "1            NaN                 28.0\n",
       "2     Semi-Urban                 32.0\n",
       "3          Urban                 28.0"
      ]
     },
     "execution_count": 39,
     "metadata": {},
     "output_type": "execute_result"
    }
   ],
   "source": [
    "## Qual a mediana de idade dos entregadores por cidade?\n",
    "\n",
    "cols = ['Delivery_person_Age', 'City']\n",
    "\n",
    "df.loc[:, cols].groupby(['City']).median().reset_index()"
   ]
  },
  {
   "cell_type": "code",
   "execution_count": 41,
   "metadata": {},
   "outputs": [
    {
     "data": {
      "text/html": [
       "<div>\n",
       "<style scoped>\n",
       "    .dataframe tbody tr th:only-of-type {\n",
       "        vertical-align: middle;\n",
       "    }\n",
       "\n",
       "    .dataframe tbody tr th {\n",
       "        vertical-align: top;\n",
       "    }\n",
       "\n",
       "    .dataframe thead th {\n",
       "        text-align: right;\n",
       "    }\n",
       "</style>\n",
       "<table border=\"1\" class=\"dataframe\">\n",
       "  <thead>\n",
       "    <tr style=\"text-align: right;\">\n",
       "      <th></th>\n",
       "      <th>Road_traffic_density</th>\n",
       "      <th>ID</th>\n",
       "    </tr>\n",
       "  </thead>\n",
       "  <tbody>\n",
       "    <tr>\n",
       "      <th>0</th>\n",
       "      <td>High</td>\n",
       "      <td>4210</td>\n",
       "    </tr>\n",
       "    <tr>\n",
       "      <th>1</th>\n",
       "      <td>Jam</td>\n",
       "      <td>13465</td>\n",
       "    </tr>\n",
       "    <tr>\n",
       "      <th>2</th>\n",
       "      <td>Low</td>\n",
       "      <td>14583</td>\n",
       "    </tr>\n",
       "    <tr>\n",
       "      <th>3</th>\n",
       "      <td>Medium</td>\n",
       "      <td>10403</td>\n",
       "    </tr>\n",
       "    <tr>\n",
       "      <th>4</th>\n",
       "      <td>NaN</td>\n",
       "      <td>91</td>\n",
       "    </tr>\n",
       "  </tbody>\n",
       "</table>\n",
       "</div>"
      ],
      "text/plain": [
       "  Road_traffic_density     ID\n",
       "0                 High   4210\n",
       "1                  Jam  13465\n",
       "2                  Low  14583\n",
       "3               Medium  10403\n",
       "4                  NaN     91"
      ]
     },
     "execution_count": 41,
     "metadata": {},
     "output_type": "execute_result"
    }
   ],
   "source": [
    "##4. Qual o número total de entregas feitas por densidade de tráfego?\n",
    "\n",
    "cols = ['ID', 'Road_traffic_density']\n",
    "\n",
    "df.loc[:, cols].groupby(['Road_traffic_density']).count().reset_index()"
   ]
  },
  {
   "cell_type": "code",
   "execution_count": 43,
   "metadata": {},
   "outputs": [
    {
     "data": {
      "text/html": [
       "<div>\n",
       "<style scoped>\n",
       "    .dataframe tbody tr th:only-of-type {\n",
       "        vertical-align: middle;\n",
       "    }\n",
       "\n",
       "    .dataframe tbody tr th {\n",
       "        vertical-align: top;\n",
       "    }\n",
       "\n",
       "    .dataframe thead th {\n",
       "        text-align: right;\n",
       "    }\n",
       "</style>\n",
       "<table border=\"1\" class=\"dataframe\">\n",
       "  <thead>\n",
       "    <tr style=\"text-align: right;\">\n",
       "      <th></th>\n",
       "      <th>Road_traffic_density</th>\n",
       "      <th>Delivery_person_Ratings</th>\n",
       "    </tr>\n",
       "  </thead>\n",
       "  <tbody>\n",
       "    <tr>\n",
       "      <th>0</th>\n",
       "      <td>High</td>\n",
       "      <td>4.653492</td>\n",
       "    </tr>\n",
       "    <tr>\n",
       "      <th>1</th>\n",
       "      <td>Jam</td>\n",
       "      <td>4.595395</td>\n",
       "    </tr>\n",
       "    <tr>\n",
       "      <th>2</th>\n",
       "      <td>Low</td>\n",
       "      <td>4.646780</td>\n",
       "    </tr>\n",
       "    <tr>\n",
       "      <th>3</th>\n",
       "      <td>Medium</td>\n",
       "      <td>4.660627</td>\n",
       "    </tr>\n",
       "    <tr>\n",
       "      <th>4</th>\n",
       "      <td>NaN</td>\n",
       "      <td>3.912088</td>\n",
       "    </tr>\n",
       "  </tbody>\n",
       "</table>\n",
       "</div>"
      ],
      "text/plain": [
       "  Road_traffic_density  Delivery_person_Ratings\n",
       "0                 High                 4.653492\n",
       "1                  Jam                 4.595395\n",
       "2                  Low                 4.646780\n",
       "3               Medium                 4.660627\n",
       "4                  NaN                 3.912088"
      ]
     },
     "execution_count": 43,
     "metadata": {},
     "output_type": "execute_result"
    }
   ],
   "source": [
    "##5. Qual a média das avaliações das entregas feitas por densidade de tráfego?\n",
    "\n",
    "cols = ['Delivery_person_Ratings', 'Road_traffic_density']\n",
    "\n",
    "df.loc[:, cols].groupby(['Road_traffic_density']).mean().reset_index()"
   ]
  },
  {
   "cell_type": "code",
   "execution_count": 44,
   "metadata": {},
   "outputs": [
    {
     "data": {
      "text/html": [
       "<div>\n",
       "<style scoped>\n",
       "    .dataframe tbody tr th:only-of-type {\n",
       "        vertical-align: middle;\n",
       "    }\n",
       "\n",
       "    .dataframe tbody tr th {\n",
       "        vertical-align: top;\n",
       "    }\n",
       "\n",
       "    .dataframe thead th {\n",
       "        text-align: right;\n",
       "    }\n",
       "</style>\n",
       "<table border=\"1\" class=\"dataframe\">\n",
       "  <thead>\n",
       "    <tr style=\"text-align: right;\">\n",
       "      <th></th>\n",
       "      <th>City</th>\n",
       "      <th>ID</th>\n",
       "    </tr>\n",
       "  </thead>\n",
       "  <tbody>\n",
       "    <tr>\n",
       "      <th>0</th>\n",
       "      <td>Metropolitian</td>\n",
       "      <td>31990</td>\n",
       "    </tr>\n",
       "    <tr>\n",
       "      <th>1</th>\n",
       "      <td>NaN</td>\n",
       "      <td>1104</td>\n",
       "    </tr>\n",
       "    <tr>\n",
       "      <th>2</th>\n",
       "      <td>Semi-Urban</td>\n",
       "      <td>152</td>\n",
       "    </tr>\n",
       "    <tr>\n",
       "      <th>3</th>\n",
       "      <td>Urban</td>\n",
       "      <td>9506</td>\n",
       "    </tr>\n",
       "  </tbody>\n",
       "</table>\n",
       "</div>"
      ],
      "text/plain": [
       "            City     ID\n",
       "0  Metropolitian  31990\n",
       "1            NaN   1104\n",
       "2     Semi-Urban    152\n",
       "3          Urban   9506"
      ]
     },
     "execution_count": 44,
     "metadata": {},
     "output_type": "execute_result"
    }
   ],
   "source": [
    "##6. Qual a quantidade de entregas feitas por cidade?\n",
    "\n",
    "cols = ['ID', 'City']\n",
    "\n",
    "df.loc[:, cols].groupby(['City']).count().reset_index()\n"
   ]
  },
  {
   "cell_type": "code",
   "execution_count": 49,
   "metadata": {},
   "outputs": [
    {
     "data": {
      "text/html": [
       "<div>\n",
       "<style scoped>\n",
       "    .dataframe tbody tr th:only-of-type {\n",
       "        vertical-align: middle;\n",
       "    }\n",
       "\n",
       "    .dataframe tbody tr th {\n",
       "        vertical-align: top;\n",
       "    }\n",
       "\n",
       "    .dataframe thead tr th {\n",
       "        text-align: left;\n",
       "    }\n",
       "</style>\n",
       "<table border=\"1\" class=\"dataframe\">\n",
       "  <thead>\n",
       "    <tr>\n",
       "      <th></th>\n",
       "      <th>City</th>\n",
       "      <th>Type_of_vehicle</th>\n",
       "      <th colspan=\"3\" halign=\"left\">Delivery_person_Age</th>\n",
       "    </tr>\n",
       "    <tr>\n",
       "      <th></th>\n",
       "      <th></th>\n",
       "      <th></th>\n",
       "      <th>mean</th>\n",
       "      <th>median</th>\n",
       "      <th>std</th>\n",
       "    </tr>\n",
       "  </thead>\n",
       "  <tbody>\n",
       "    <tr>\n",
       "      <th>0</th>\n",
       "      <td>Metropolitian</td>\n",
       "      <td>bicycle</td>\n",
       "      <td>31.333333</td>\n",
       "      <td>15.0</td>\n",
       "      <td>18.073922</td>\n",
       "    </tr>\n",
       "    <tr>\n",
       "      <th>1</th>\n",
       "      <td>Metropolitian</td>\n",
       "      <td>electric_scooter</td>\n",
       "      <td>29.960572</td>\n",
       "      <td>30.0</td>\n",
       "      <td>5.949841</td>\n",
       "    </tr>\n",
       "    <tr>\n",
       "      <th>2</th>\n",
       "      <td>Metropolitian</td>\n",
       "      <td>motorcycle</td>\n",
       "      <td>29.755246</td>\n",
       "      <td>30.0</td>\n",
       "      <td>5.761440</td>\n",
       "    </tr>\n",
       "    <tr>\n",
       "      <th>3</th>\n",
       "      <td>Metropolitian</td>\n",
       "      <td>scooter</td>\n",
       "      <td>29.817310</td>\n",
       "      <td>30.0</td>\n",
       "      <td>5.829044</td>\n",
       "    </tr>\n",
       "    <tr>\n",
       "      <th>4</th>\n",
       "      <td>NaN</td>\n",
       "      <td>electric_scooter</td>\n",
       "      <td>29.579545</td>\n",
       "      <td>29.0</td>\n",
       "      <td>6.300377</td>\n",
       "    </tr>\n",
       "    <tr>\n",
       "      <th>5</th>\n",
       "      <td>NaN</td>\n",
       "      <td>motorcycle</td>\n",
       "      <td>28.898276</td>\n",
       "      <td>28.0</td>\n",
       "      <td>5.650286</td>\n",
       "    </tr>\n",
       "    <tr>\n",
       "      <th>6</th>\n",
       "      <td>NaN</td>\n",
       "      <td>scooter</td>\n",
       "      <td>28.559633</td>\n",
       "      <td>28.0</td>\n",
       "      <td>5.642093</td>\n",
       "    </tr>\n",
       "    <tr>\n",
       "      <th>7</th>\n",
       "      <td>Semi-Urban</td>\n",
       "      <td>electric_scooter</td>\n",
       "      <td>36.000000</td>\n",
       "      <td>35.0</td>\n",
       "      <td>2.645751</td>\n",
       "    </tr>\n",
       "    <tr>\n",
       "      <th>8</th>\n",
       "      <td>Semi-Urban</td>\n",
       "      <td>motorcycle</td>\n",
       "      <td>32.378571</td>\n",
       "      <td>32.0</td>\n",
       "      <td>5.098269</td>\n",
       "    </tr>\n",
       "    <tr>\n",
       "      <th>9</th>\n",
       "      <td>Semi-Urban</td>\n",
       "      <td>scooter</td>\n",
       "      <td>34.333333</td>\n",
       "      <td>34.0</td>\n",
       "      <td>3.605551</td>\n",
       "    </tr>\n",
       "    <tr>\n",
       "      <th>10</th>\n",
       "      <td>Urban</td>\n",
       "      <td>electric_scooter</td>\n",
       "      <td>28.986352</td>\n",
       "      <td>28.0</td>\n",
       "      <td>6.260876</td>\n",
       "    </tr>\n",
       "    <tr>\n",
       "      <th>11</th>\n",
       "      <td>Urban</td>\n",
       "      <td>motorcycle</td>\n",
       "      <td>28.934807</td>\n",
       "      <td>28.0</td>\n",
       "      <td>5.725011</td>\n",
       "    </tr>\n",
       "    <tr>\n",
       "      <th>12</th>\n",
       "      <td>Urban</td>\n",
       "      <td>scooter</td>\n",
       "      <td>28.857394</td>\n",
       "      <td>28.0</td>\n",
       "      <td>5.797854</td>\n",
       "    </tr>\n",
       "  </tbody>\n",
       "</table>\n",
       "</div>"
      ],
      "text/plain": [
       "             City   Type_of_vehicle Delivery_person_Age                  \n",
       "                                                   mean median        std\n",
       "0   Metropolitian           bicycle           31.333333   15.0  18.073922\n",
       "1   Metropolitian  electric_scooter           29.960572   30.0   5.949841\n",
       "2   Metropolitian        motorcycle           29.755246   30.0   5.761440\n",
       "3   Metropolitian           scooter           29.817310   30.0   5.829044\n",
       "4             NaN  electric_scooter           29.579545   29.0   6.300377\n",
       "5             NaN        motorcycle           28.898276   28.0   5.650286\n",
       "6             NaN           scooter           28.559633   28.0   5.642093\n",
       "7      Semi-Urban  electric_scooter           36.000000   35.0   2.645751\n",
       "8      Semi-Urban        motorcycle           32.378571   32.0   5.098269\n",
       "9      Semi-Urban           scooter           34.333333   34.0   3.605551\n",
       "10          Urban  electric_scooter           28.986352   28.0   6.260876\n",
       "11          Urban        motorcycle           28.934807   28.0   5.725011\n",
       "12          Urban           scooter           28.857394   28.0   5.797854"
      ]
     },
     "execution_count": 49,
     "metadata": {},
     "output_type": "execute_result"
    }
   ],
   "source": [
    "##7. Qual a média, mediana e desvio padrão das entregas feitas por cidade e por tipo de veículo?\n",
    "\n",
    "cols = ['Delivery_person_Age', 'City', 'Type_of_vehicle']\n",
    "\n",
    "df.loc[:, cols].groupby(['City', 'Type_of_vehicle']).agg(['mean','median', 'std']).reset_index()\n"
   ]
  },
  {
   "cell_type": "code",
   "execution_count": 56,
   "metadata": {},
   "outputs": [
    {
     "data": {
      "text/html": [
       "<div>\n",
       "<style scoped>\n",
       "    .dataframe tbody tr th:only-of-type {\n",
       "        vertical-align: middle;\n",
       "    }\n",
       "\n",
       "    .dataframe tbody tr th {\n",
       "        vertical-align: top;\n",
       "    }\n",
       "\n",
       "    .dataframe thead th {\n",
       "        text-align: right;\n",
       "    }\n",
       "</style>\n",
       "<table border=\"1\" class=\"dataframe\">\n",
       "  <thead>\n",
       "    <tr style=\"text-align: right;\">\n",
       "      <th></th>\n",
       "      <th>City</th>\n",
       "      <th>Order_Date</th>\n",
       "    </tr>\n",
       "  </thead>\n",
       "  <tbody>\n",
       "    <tr>\n",
       "      <th>0</th>\n",
       "      <td>Metropolitian</td>\n",
       "      <td>2022-02-11</td>\n",
       "    </tr>\n",
       "    <tr>\n",
       "      <th>1</th>\n",
       "      <td>NaN</td>\n",
       "      <td>2022-02-11</td>\n",
       "    </tr>\n",
       "    <tr>\n",
       "      <th>2</th>\n",
       "      <td>Semi-Urban</td>\n",
       "      <td>2022-02-11</td>\n",
       "    </tr>\n",
       "    <tr>\n",
       "      <th>3</th>\n",
       "      <td>Urban</td>\n",
       "      <td>2022-02-11</td>\n",
       "    </tr>\n",
       "  </tbody>\n",
       "</table>\n",
       "</div>"
      ],
      "text/plain": [
       "            City Order_Date\n",
       "0  Metropolitian 2022-02-11\n",
       "1            NaN 2022-02-11\n",
       "2     Semi-Urban 2022-02-11\n",
       "3          Urban 2022-02-11"
      ]
     },
     "execution_count": 56,
     "metadata": {},
     "output_type": "execute_result"
    }
   ],
   "source": [
    "##8. Qual a primeira data de entrega por cada cidade?\n",
    "\n",
    "df_aux = df.sort_values('Order_Date', ascending = False)\n",
    "\n",
    "cols = ['Order_Date','City']\n",
    "\n",
    "df.loc[:, cols ].groupby('City')['Order_Date'].min().reset_index()"
   ]
  },
  {
   "cell_type": "code",
   "execution_count": 57,
   "metadata": {},
   "outputs": [
    {
     "data": {
      "text/html": [
       "<div>\n",
       "<style scoped>\n",
       "    .dataframe tbody tr th:only-of-type {\n",
       "        vertical-align: middle;\n",
       "    }\n",
       "\n",
       "    .dataframe tbody tr th {\n",
       "        vertical-align: top;\n",
       "    }\n",
       "\n",
       "    .dataframe thead th {\n",
       "        text-align: right;\n",
       "    }\n",
       "</style>\n",
       "<table border=\"1\" class=\"dataframe\">\n",
       "  <thead>\n",
       "    <tr style=\"text-align: right;\">\n",
       "      <th></th>\n",
       "      <th>City</th>\n",
       "      <th>Order_Date</th>\n",
       "    </tr>\n",
       "  </thead>\n",
       "  <tbody>\n",
       "    <tr>\n",
       "      <th>0</th>\n",
       "      <td>Metropolitian</td>\n",
       "      <td>2022-04-06</td>\n",
       "    </tr>\n",
       "    <tr>\n",
       "      <th>1</th>\n",
       "      <td>NaN</td>\n",
       "      <td>2022-04-06</td>\n",
       "    </tr>\n",
       "    <tr>\n",
       "      <th>2</th>\n",
       "      <td>Semi-Urban</td>\n",
       "      <td>2022-04-06</td>\n",
       "    </tr>\n",
       "    <tr>\n",
       "      <th>3</th>\n",
       "      <td>Urban</td>\n",
       "      <td>2022-04-06</td>\n",
       "    </tr>\n",
       "  </tbody>\n",
       "</table>\n",
       "</div>"
      ],
      "text/plain": [
       "            City Order_Date\n",
       "0  Metropolitian 2022-04-06\n",
       "1            NaN 2022-04-06\n",
       "2     Semi-Urban 2022-04-06\n",
       "3          Urban 2022-04-06"
      ]
     },
     "execution_count": 57,
     "metadata": {},
     "output_type": "execute_result"
    }
   ],
   "source": [
    "##9. Qual a última data de entrega por cada cidade?\n",
    "\n",
    "df_aux = df.sort_values('Order_Date', ascending = False)\n",
    "\n",
    "cols = ['Order_Date','City']\n",
    "\n",
    "df.loc[:, cols ].groupby('City')['Order_Date'].max().reset_index()\n"
   ]
  },
  {
   "cell_type": "code",
   "execution_count": 59,
   "metadata": {},
   "outputs": [
    {
     "data": {
      "text/html": [
       "<div>\n",
       "<style scoped>\n",
       "    .dataframe tbody tr th:only-of-type {\n",
       "        vertical-align: middle;\n",
       "    }\n",
       "\n",
       "    .dataframe tbody tr th {\n",
       "        vertical-align: top;\n",
       "    }\n",
       "\n",
       "    .dataframe thead th {\n",
       "        text-align: right;\n",
       "    }\n",
       "</style>\n",
       "<table border=\"1\" class=\"dataframe\">\n",
       "  <thead>\n",
       "    <tr style=\"text-align: right;\">\n",
       "      <th></th>\n",
       "      <th>Weatherconditions</th>\n",
       "      <th>Delivery_person_Ratings</th>\n",
       "    </tr>\n",
       "  </thead>\n",
       "  <tbody>\n",
       "    <tr>\n",
       "      <th>0</th>\n",
       "      <td>conditions Cloudy</td>\n",
       "      <td>4.652190</td>\n",
       "    </tr>\n",
       "    <tr>\n",
       "      <th>1</th>\n",
       "      <td>conditions Fog</td>\n",
       "      <td>4.653549</td>\n",
       "    </tr>\n",
       "    <tr>\n",
       "      <th>2</th>\n",
       "      <td>conditions NaN</td>\n",
       "      <td>3.912088</td>\n",
       "    </tr>\n",
       "    <tr>\n",
       "      <th>3</th>\n",
       "      <td>conditions Sandstorms</td>\n",
       "      <td>4.613000</td>\n",
       "    </tr>\n",
       "    <tr>\n",
       "      <th>4</th>\n",
       "      <td>conditions Stormy</td>\n",
       "      <td>4.613369</td>\n",
       "    </tr>\n",
       "    <tr>\n",
       "      <th>5</th>\n",
       "      <td>conditions Sunny</td>\n",
       "      <td>4.658030</td>\n",
       "    </tr>\n",
       "    <tr>\n",
       "      <th>6</th>\n",
       "      <td>conditions Windy</td>\n",
       "      <td>4.617804</td>\n",
       "    </tr>\n",
       "  </tbody>\n",
       "</table>\n",
       "</div>"
      ],
      "text/plain": [
       "       Weatherconditions  Delivery_person_Ratings\n",
       "0      conditions Cloudy                 4.652190\n",
       "1         conditions Fog                 4.653549\n",
       "2         conditions NaN                 3.912088\n",
       "3  conditions Sandstorms                 4.613000\n",
       "4      conditions Stormy                 4.613369\n",
       "5       conditions Sunny                 4.658030\n",
       "6       conditions Windy                 4.617804"
      ]
     },
     "execution_count": 59,
     "metadata": {},
     "output_type": "execute_result"
    }
   ],
   "source": [
    "##10. Qual a média de avaliações das entregas feitas por condições climáticas?\n",
    "\n",
    "\n",
    "cols = ['Delivery_person_Ratings','Weatherconditions']\n",
    "\n",
    "df.loc[:, cols].groupby('Weatherconditions').mean().reset_index()"
   ]
  },
  {
   "cell_type": "code",
   "execution_count": 61,
   "metadata": {},
   "outputs": [
    {
     "data": {
      "text/html": [
       "<div>\n",
       "<style scoped>\n",
       "    .dataframe tbody tr th:only-of-type {\n",
       "        vertical-align: middle;\n",
       "    }\n",
       "\n",
       "    .dataframe tbody tr th {\n",
       "        vertical-align: top;\n",
       "    }\n",
       "\n",
       "    .dataframe thead th {\n",
       "        text-align: right;\n",
       "    }\n",
       "</style>\n",
       "<table border=\"1\" class=\"dataframe\">\n",
       "  <thead>\n",
       "    <tr style=\"text-align: right;\">\n",
       "      <th></th>\n",
       "      <th>Weatherconditions</th>\n",
       "      <th>Road_traffic_density</th>\n",
       "      <th>Delivery_person_Ratings</th>\n",
       "    </tr>\n",
       "  </thead>\n",
       "  <tbody>\n",
       "    <tr>\n",
       "      <th>0</th>\n",
       "      <td>conditions Cloudy</td>\n",
       "      <td>High</td>\n",
       "      <td>4.0</td>\n",
       "    </tr>\n",
       "    <tr>\n",
       "      <th>1</th>\n",
       "      <td>conditions Cloudy</td>\n",
       "      <td>Jam</td>\n",
       "      <td>4.0</td>\n",
       "    </tr>\n",
       "    <tr>\n",
       "      <th>2</th>\n",
       "      <td>conditions Cloudy</td>\n",
       "      <td>Low</td>\n",
       "      <td>3.5</td>\n",
       "    </tr>\n",
       "    <tr>\n",
       "      <th>3</th>\n",
       "      <td>conditions Cloudy</td>\n",
       "      <td>Medium</td>\n",
       "      <td>4.0</td>\n",
       "    </tr>\n",
       "    <tr>\n",
       "      <th>4</th>\n",
       "      <td>conditions Fog</td>\n",
       "      <td>High</td>\n",
       "      <td>4.0</td>\n",
       "    </tr>\n",
       "    <tr>\n",
       "      <th>5</th>\n",
       "      <td>conditions Fog</td>\n",
       "      <td>Jam</td>\n",
       "      <td>4.0</td>\n",
       "    </tr>\n",
       "    <tr>\n",
       "      <th>6</th>\n",
       "      <td>conditions Fog</td>\n",
       "      <td>Low</td>\n",
       "      <td>3.5</td>\n",
       "    </tr>\n",
       "    <tr>\n",
       "      <th>7</th>\n",
       "      <td>conditions Fog</td>\n",
       "      <td>Medium</td>\n",
       "      <td>4.0</td>\n",
       "    </tr>\n",
       "    <tr>\n",
       "      <th>8</th>\n",
       "      <td>conditions NaN</td>\n",
       "      <td>NaN</td>\n",
       "      <td>1.0</td>\n",
       "    </tr>\n",
       "    <tr>\n",
       "      <th>9</th>\n",
       "      <td>conditions Sandstorms</td>\n",
       "      <td>High</td>\n",
       "      <td>4.0</td>\n",
       "    </tr>\n",
       "    <tr>\n",
       "      <th>10</th>\n",
       "      <td>conditions Sandstorms</td>\n",
       "      <td>Jam</td>\n",
       "      <td>3.5</td>\n",
       "    </tr>\n",
       "    <tr>\n",
       "      <th>11</th>\n",
       "      <td>conditions Sandstorms</td>\n",
       "      <td>Low</td>\n",
       "      <td>4.0</td>\n",
       "    </tr>\n",
       "    <tr>\n",
       "      <th>12</th>\n",
       "      <td>conditions Sandstorms</td>\n",
       "      <td>Medium</td>\n",
       "      <td>3.5</td>\n",
       "    </tr>\n",
       "    <tr>\n",
       "      <th>13</th>\n",
       "      <td>conditions Stormy</td>\n",
       "      <td>High</td>\n",
       "      <td>4.0</td>\n",
       "    </tr>\n",
       "    <tr>\n",
       "      <th>14</th>\n",
       "      <td>conditions Stormy</td>\n",
       "      <td>Jam</td>\n",
       "      <td>3.5</td>\n",
       "    </tr>\n",
       "    <tr>\n",
       "      <th>15</th>\n",
       "      <td>conditions Stormy</td>\n",
       "      <td>Low</td>\n",
       "      <td>4.0</td>\n",
       "    </tr>\n",
       "    <tr>\n",
       "      <th>16</th>\n",
       "      <td>conditions Stormy</td>\n",
       "      <td>Medium</td>\n",
       "      <td>3.5</td>\n",
       "    </tr>\n",
       "    <tr>\n",
       "      <th>17</th>\n",
       "      <td>conditions Sunny</td>\n",
       "      <td>High</td>\n",
       "      <td>3.5</td>\n",
       "    </tr>\n",
       "    <tr>\n",
       "      <th>18</th>\n",
       "      <td>conditions Sunny</td>\n",
       "      <td>Jam</td>\n",
       "      <td>3.5</td>\n",
       "    </tr>\n",
       "    <tr>\n",
       "      <th>19</th>\n",
       "      <td>conditions Sunny</td>\n",
       "      <td>Low</td>\n",
       "      <td>2.5</td>\n",
       "    </tr>\n",
       "    <tr>\n",
       "      <th>20</th>\n",
       "      <td>conditions Sunny</td>\n",
       "      <td>Medium</td>\n",
       "      <td>4.0</td>\n",
       "    </tr>\n",
       "    <tr>\n",
       "      <th>21</th>\n",
       "      <td>conditions Windy</td>\n",
       "      <td>High</td>\n",
       "      <td>4.0</td>\n",
       "    </tr>\n",
       "    <tr>\n",
       "      <th>22</th>\n",
       "      <td>conditions Windy</td>\n",
       "      <td>Jam</td>\n",
       "      <td>3.5</td>\n",
       "    </tr>\n",
       "    <tr>\n",
       "      <th>23</th>\n",
       "      <td>conditions Windy</td>\n",
       "      <td>Low</td>\n",
       "      <td>4.0</td>\n",
       "    </tr>\n",
       "    <tr>\n",
       "      <th>24</th>\n",
       "      <td>conditions Windy</td>\n",
       "      <td>Medium</td>\n",
       "      <td>3.5</td>\n",
       "    </tr>\n",
       "  </tbody>\n",
       "</table>\n",
       "</div>"
      ],
      "text/plain": [
       "        Weatherconditions Road_traffic_density  Delivery_person_Ratings\n",
       "0       conditions Cloudy                 High                      4.0\n",
       "1       conditions Cloudy                  Jam                      4.0\n",
       "2       conditions Cloudy                  Low                      3.5\n",
       "3       conditions Cloudy               Medium                      4.0\n",
       "4          conditions Fog                 High                      4.0\n",
       "5          conditions Fog                  Jam                      4.0\n",
       "6          conditions Fog                  Low                      3.5\n",
       "7          conditions Fog               Medium                      4.0\n",
       "8          conditions NaN                  NaN                      1.0\n",
       "9   conditions Sandstorms                 High                      4.0\n",
       "10  conditions Sandstorms                  Jam                      3.5\n",
       "11  conditions Sandstorms                  Low                      4.0\n",
       "12  conditions Sandstorms               Medium                      3.5\n",
       "13      conditions Stormy                 High                      4.0\n",
       "14      conditions Stormy                  Jam                      3.5\n",
       "15      conditions Stormy                  Low                      4.0\n",
       "16      conditions Stormy               Medium                      3.5\n",
       "17       conditions Sunny                 High                      3.5\n",
       "18       conditions Sunny                  Jam                      3.5\n",
       "19       conditions Sunny                  Low                      2.5\n",
       "20       conditions Sunny               Medium                      4.0\n",
       "21       conditions Windy                 High                      4.0\n",
       "22       conditions Windy                  Jam                      3.5\n",
       "23       conditions Windy                  Low                      4.0\n",
       "24       conditions Windy               Medium                      3.5"
      ]
     },
     "execution_count": 61,
     "metadata": {},
     "output_type": "execute_result"
    }
   ],
   "source": [
    "##11. Qual o valor da avaliação mais baixa feita por tipo de condição climática e por densidade de tráfego?\n",
    "\n",
    "cols = ['Delivery_person_Ratings','Weatherconditions','Road_traffic_density']\n",
    "\n",
    "df.loc[:, cols].groupby(['Weatherconditions','Road_traffic_density'])['Delivery_person_Ratings'].min().reset_index()"
   ]
  },
  {
   "cell_type": "code",
   "execution_count": 64,
   "metadata": {},
   "outputs": [
    {
     "data": {
      "text/html": [
       "<div>\n",
       "<style scoped>\n",
       "    .dataframe tbody tr th:only-of-type {\n",
       "        vertical-align: middle;\n",
       "    }\n",
       "\n",
       "    .dataframe tbody tr th {\n",
       "        vertical-align: top;\n",
       "    }\n",
       "\n",
       "    .dataframe thead tr th {\n",
       "        text-align: left;\n",
       "    }\n",
       "</style>\n",
       "<table border=\"1\" class=\"dataframe\">\n",
       "  <thead>\n",
       "    <tr>\n",
       "      <th></th>\n",
       "      <th>Vehicle_condition</th>\n",
       "      <th colspan=\"3\" halign=\"left\">Delivery_person_Ratings</th>\n",
       "    </tr>\n",
       "    <tr>\n",
       "      <th></th>\n",
       "      <th></th>\n",
       "      <th>mean</th>\n",
       "      <th>median</th>\n",
       "      <th>std</th>\n",
       "    </tr>\n",
       "  </thead>\n",
       "  <tbody>\n",
       "    <tr>\n",
       "      <th>0</th>\n",
       "      <td>0</td>\n",
       "      <td>4.609126</td>\n",
       "      <td>4.7</td>\n",
       "      <td>0.298199</td>\n",
       "    </tr>\n",
       "    <tr>\n",
       "      <th>1</th>\n",
       "      <td>1</td>\n",
       "      <td>4.648569</td>\n",
       "      <td>4.7</td>\n",
       "      <td>0.320140</td>\n",
       "    </tr>\n",
       "    <tr>\n",
       "      <th>2</th>\n",
       "      <td>2</td>\n",
       "      <td>4.646178</td>\n",
       "      <td>4.7</td>\n",
       "      <td>0.322822</td>\n",
       "    </tr>\n",
       "    <tr>\n",
       "      <th>3</th>\n",
       "      <td>3</td>\n",
       "      <td>3.912088</td>\n",
       "      <td>6.0</td>\n",
       "      <td>2.479464</td>\n",
       "    </tr>\n",
       "  </tbody>\n",
       "</table>\n",
       "</div>"
      ],
      "text/plain": [
       "  Vehicle_condition Delivery_person_Ratings                 \n",
       "                                       mean median       std\n",
       "0                 0                4.609126    4.7  0.298199\n",
       "1                 1                4.648569    4.7  0.320140\n",
       "2                 2                4.646178    4.7  0.322822\n",
       "3                 3                3.912088    6.0  2.479464"
      ]
     },
     "execution_count": 64,
     "metadata": {},
     "output_type": "execute_result"
    }
   ],
   "source": [
    "##2. Qual a média, mediana e desvio padrão das avaliações por cada tipo de condições de veículos?\n",
    "\n",
    "cols = ['Delivery_person_Ratings', 'Vehicle_condition']\n",
    "\n",
    "df.loc[:, cols].groupby(['Vehicle_condition']).agg(['mean', 'median', 'std']).reset_index()\n"
   ]
  },
  {
   "cell_type": "code",
   "execution_count": null,
   "metadata": {},
   "outputs": [],
   "source": []
  },
  {
   "cell_type": "code",
   "execution_count": 60,
   "metadata": {},
   "outputs": [
    {
     "data": {
      "text/plain": [
       "Index(['ID', 'Delivery_person_ID', 'Delivery_person_Age',\n",
       "       'Delivery_person_Ratings', 'Restaurant_latitude',\n",
       "       'Restaurant_longitude', 'Delivery_location_latitude',\n",
       "       'Delivery_location_longitude', 'Order_Date', 'Time_Orderd',\n",
       "       'Time_Order_picked', 'Weatherconditions', 'Road_traffic_density',\n",
       "       'Vehicle_condition', 'Type_of_order', 'Type_of_vehicle',\n",
       "       'multiple_deliveries', 'Festival', 'City', 'Time_taken(min)'],\n",
       "      dtype='object')"
      ]
     },
     "execution_count": 60,
     "metadata": {},
     "output_type": "execute_result"
    }
   ],
   "source": [
    "df.columns"
   ]
  }
 ],
 "metadata": {
  "kernelspec": {
   "display_name": "Python 3",
   "language": "python",
   "name": "python3"
  },
  "language_info": {
   "codemirror_mode": {
    "name": "ipython",
    "version": 3
   },
   "file_extension": ".py",
   "mimetype": "text/x-python",
   "name": "python",
   "nbconvert_exporter": "python",
   "pygments_lexer": "ipython3",
   "version": "3.11.9"
  }
 },
 "nbformat": 4,
 "nbformat_minor": 2
}
