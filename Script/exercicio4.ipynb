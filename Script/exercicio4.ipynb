{
 "cells": [
  {
   "cell_type": "code",
   "execution_count": null,
   "metadata": {},
   "outputs": [
    {
     "data": {
      "text/plain": [
       "Ola, Thiago\n"
      ]
     },
     "metadata": {},
     "output_type": "display_data"
    }
   ],
   "source": [
    "nome = input( \"Escreva o nome de uma pessoa: \")\n",
    "\n",
    "if nome == \"Thiago\":\n",
    "    print(\"Ola, Thiago\")\n",
    "\n",
    "else:\n",
    "    print(\"Tchau, Thiago\")"
   ]
  },
  {
   "cell_type": "code",
   "execution_count": null,
   "metadata": {},
   "outputs": [
    {
     "data": {
      "text/plain": [
       "200\n"
      ]
     },
     "metadata": {},
     "output_type": "display_data"
    }
   ],
   "source": [
    "numero01 = int(input(\"Escreva um numero: \"))\n",
    "\n",
    "soma = numero01 + 100\n",
    "\n",
    "print(soma)"
   ]
  }
 ],
 "metadata": {
  "language_info": {
   "name": "python"
  }
 },
 "nbformat": 4,
 "nbformat_minor": 2
}
