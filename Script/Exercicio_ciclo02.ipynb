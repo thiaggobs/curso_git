{
 "cells": [
  {
   "cell_type": "code",
   "execution_count": 11,
   "metadata": {},
   "outputs": [
    {
     "name": "stdout",
     "output_type": "stream",
     "text": [
      "O resultado é: \n",
      "50\n"
     ]
    }
   ],
   "source": [
    "## Exercício 1\n",
    "\n",
    "numero = int(input(\"Escreva um numero: \"))\n",
    "\n",
    "if numero <= 5:\n",
    "   resultado = numero * 10\n",
    "\n",
    "elif numero <=10:\n",
    "     resultado = numero * 20\n",
    "     \n",
    "else:\n",
    "    resultado = numero + 100\n",
    "print(\"O resultado é: \")\n",
    "print(resultado)"
   ]
  },
  {
   "cell_type": "code",
   "execution_count": null,
   "metadata": {},
   "outputs": [
    {
     "data": {
      "text/plain": [
       "Um valor foi removido da lista. Mensagem numero: 1\n",
       "Um valor foi removido da lista. Mensagem numero: 2\n",
       "Um valor foi removido da lista. Mensagem numero: 3\n",
       "Um valor foi removido da lista. Mensagem numero: 4\n",
       "Um valor foi removido da lista. Mensagem numero: 5\n",
       "Um valor foi removido da lista. Mensagem numero: 6\n",
       "Um valor foi removido da lista. Mensagem numero: 7\n",
       "Um valor foi removido da lista. Mensagem numero: 8\n",
       "Um valor foi removido da lista. Mensagem numero: 9\n",
       "Um valor foi removido da lista. Mensagem numero: 10\n",
       "Um valor foi removido da lista. Mensagem numero: 11\n",
       "Um valor foi removido da lista. Mensagem numero: 12\n",
       "Um valor foi removido da lista. Mensagem numero: 13\n",
       "Um valor foi removido da lista. Mensagem numero: 14\n",
       "Um valor foi removido da lista. Mensagem numero: 15\n",
       "Um valor foi removido da lista. Mensagem numero: 16\n",
       "Um valor foi removido da lista. Mensagem numero: 17\n",
       "Um valor foi removido da lista. Mensagem numero: 18\n",
       "Um valor foi removido da lista. Mensagem numero: 19\n",
       "Um valor foi removido da lista. Mensagem numero: 20\n",
       "Um valor foi removido da lista. Mensagem numero: 21\n",
       "Um valor foi removido da lista. Mensagem numero: 22\n",
       "Um valor foi removido da lista. Mensagem numero: 23\n",
       "Um valor foi removido da lista. Mensagem numero: 24\n",
       "Um valor foi removido da lista. Mensagem numero: 25\n",
       "Um valor foi removido da lista. Mensagem numero: 26\n",
       "Um valor foi removido da lista. Mensagem numero: 27\n",
       "Um valor foi removido da lista. Mensagem numero: 28\n",
       "Um valor foi removido da lista. Mensagem numero: 29\n",
       "Um valor foi removido da lista. Mensagem numero: 30\n",
       "Um valor foi removido da lista. Mensagem numero: 31\n",
       "Um valor foi removido da lista. Mensagem numero: 32\n",
       "Um valor foi removido da lista. Mensagem numero: 33\n",
       "Um valor foi removido da lista. Mensagem numero: 34\n",
       "Um valor foi removido da lista. Mensagem numero: 35\n",
       "Um valor foi removido da lista. Mensagem numero: 36\n",
       "Um valor foi removido da lista. Mensagem numero: 37\n",
       "Um valor foi removido da lista. Mensagem numero: 38\n",
       "Um valor foi removido da lista. Mensagem numero: 39\n",
       "Um valor foi removido da lista. Mensagem numero: 40\n",
       "Um valor foi removido da lista. Mensagem numero: 41\n",
       "Um valor foi removido da lista. Mensagem numero: 42\n",
       "Um valor foi removido da lista. Mensagem numero: 43\n",
       "Um valor foi removido da lista. Mensagem numero: 44\n",
       "Um valor foi removido da lista. Mensagem numero: 45\n",
       "Um valor foi removido da lista. Mensagem numero: 46\n",
       "Um valor foi removido da lista. Mensagem numero: 47\n",
       "Um valor foi removido da lista. Mensagem numero: 48\n",
       "Um valor foi removido da lista. Mensagem numero: 49\n",
       "Um valor foi removido da lista. Mensagem numero: 50\n",
       "Um valor foi removido da lista. Mensagem numero: 51\n",
       "Um valor foi removido da lista. Mensagem numero: 52\n"
      ]
     },
     "metadata": {},
     "output_type": "display_data"
    }
   ],
   "source": [
    "## Exercício 2\n",
    "contador = 1\n",
    "while contador <=52:\n",
    "    print(f\"Um valor foi removido da lista. Mensagem numero: {contador}\")\n",
    "    contador +=1"
   ]
  },
  {
   "cell_type": "code",
   "execution_count": null,
   "metadata": {},
   "outputs": [
    {
     "data": {
      "text/plain": [
       "o resultado da media ponderada Ã©: \n",
       "5.666666666666667\n"
      ]
     },
     "metadata": {},
     "output_type": "display_data"
    }
   ],
   "source": [
    "##Exercicio 3 \n",
    "\n",
    "peso01 = float(0.5)\n",
    "peso02 = float(1.0)\n",
    "peso03 = float(1.5)\n",
    "peso04 = float(2.0)\n",
    "peso05 = float(2.5)\n",
    "peso06 = float(3.0)\n",
    "peso07 = float(3.5)\n",
    "peso08 = float(4.0)\n",
    "\n",
    "numero01 = float(input(\"Escreva o primeiro numero: \")) * peso01\n",
    "numero02 = float(input(\"Escreva o segundo numero: \")) * peso02\n",
    "numero03 = float(input(\"Escreva o terceiro numero: \")) * peso03\n",
    "numero04 = float(input(\"Escreva o quarto numero: \")) * peso04\n",
    "numero05 = float(input(\"Escreva o quinto numero: \")) * peso05\n",
    "numero06 = float(input(\"Escreva o sexto numero: \")) * peso06\n",
    "numero07 = float(input(\"Escreva o setimo numero: \")) * peso07\n",
    "numero08 = float(input(\"Escreva o oitavo numero: \")) * peso08\n",
    "\n",
    "\n",
    "\n",
    "soma_numero = numero01 + numero02 + numero03 +  numero04 + numero05 + numero06 + numero07 + numero08 \n",
    "\n",
    "soma_peso = peso01 + peso02 + peso03 + peso04 + peso05 + peso06 + peso07 + peso08\n",
    "\n",
    "media_ponderada = soma_numero/soma_peso\n",
    "\n",
    "print(\"o resultado da media ponderada e: \")\n",
    "print(media_ponderada)"
   ]
  },
  {
   "cell_type": "code",
   "execution_count": null,
   "metadata": {},
   "outputs": [
    {
     "data": {
      "text/plain": [
       "O resultado e igual a: \n",
       "20\n"
      ]
     },
     "metadata": {},
     "output_type": "display_data"
    }
   ],
   "source": [
    "##Exercício 4\n",
    "\n",
    "valor = int(input(\"Escreva o valor: \"))\n",
    "\n",
    "if valor > 10:\n",
    "   resultado = valor * 100\n",
    "\n",
    "else:\n",
    "   resultado = valor + 10\n",
    "\n",
    "print(\"O resultado e igual a: \")\n",
    "print(resultado)"
   ]
  },
  {
   "cell_type": "code",
   "execution_count": null,
   "metadata": {},
   "outputs": [
    {
     "data": {
      "text/plain": [
       " E maior de idade\n"
      ]
     },
     "metadata": {},
     "output_type": "display_data"
    }
   ],
   "source": [
    "## Exercício 5 \n",
    "\n",
    "idade = int(input(\"Escreva a idade: \"))\n",
    "\n",
    "if idade >= 18:\n",
    "    print(f\" E maior de idade\")\n",
    "\n",
    "else:\n",
    "    print(f\"Nao e maior de idade\")"
   ]
  },
  {
   "cell_type": "code",
   "execution_count": null,
   "metadata": {},
   "outputs": [
    {
     "data": {
      "text/plain": [
       "O maior valor digitado Ã©: 4415\n",
       "O menor valor digitado Ã©: 212\n"
      ]
     },
     "metadata": {},
     "output_type": "display_data"
    }
   ],
   "source": [
    "## Exercício 6\n",
    "\n",
    "valor01 = int(input(\"Escreva o primeiro numero: \"))\n",
    "valor02 = int(input(\"Escreva o segundo numero: \"))\n",
    "valor03 = int(input(\"Escreva o terceiro numero: \"))\n",
    "\n",
    "maior = valor01\n",
    "menor = valor01\n",
    "\n",
    "if valor02 > maior:\n",
    "    maior = valor02\n",
    "\n",
    "if valor02 < menor:\n",
    "    menor = valor02\n",
    "\n",
    "if valor03 > maior:\n",
    "    maior = valor03\n",
    "\n",
    "if valor03 < menor:\n",
    "    menor = valor03\n",
    "    \n",
    "print(f\"O maior valor digitado é: {maior}\")\n",
    "print(f\"O menor valor digitado é: {menor}\")\n",
    "\n"
   ]
  },
  {
   "cell_type": "code",
   "execution_count": 2,
   "metadata": {},
   "outputs": [
    {
     "name": "stdout",
     "output_type": "stream",
     "text": [
      "A media harmoonica e: \n",
      "3.8135593220338984\n"
     ]
    }
   ],
   "source": [
    "## Exercício 7\n",
    "numero01 = 1/float(input(\"Escreva o primeiro numero: \"))\n",
    "numero02 = 1/float(input(\"Escreva o segundo numero: \"))\n",
    "numero03 = 1/float(input(\"Escreva o terceiro numero: \"))\n",
    "numero04 = 1/float(input(\"Escreva o quarto numero: \"))\n",
    "numero05 = 1/float(input(\"Escreva o quinto numero: \"))\n",
    "\n",
    "contagem_numero = 5\n",
    "\n",
    "soma_inversores = numero01 + numero02 + numero03 + numero04 + numero05\n",
    "\n",
    "media_harmonica = contagem_numero / soma_inversores\n",
    "\n",
    "print(f\"A media harmoonica e: \")\n",
    "print(media_harmonica)"
   ]
  },
  {
   "cell_type": "code",
   "execution_count": 7,
   "metadata": {},
   "outputs": [
    {
     "name": "stdout",
     "output_type": "stream",
     "text": [
      "O desvio padrao e \n",
      "27.5043632902127\n"
     ]
    }
   ],
   "source": [
    "##Exercício 8\n",
    "\n",
    "numero01 = float(53)\n",
    "numero02 = float(9)\n",
    "numero03 = float(54)\n",
    "numero04 = float(91)\n",
    "numero05 = float(84)\n",
    "numero06 = float(54)\n",
    "numero07 = float(7)\n",
    "numero08 = float(51)\n",
    "numero09 = float(60)\n",
    "numero10 = float(86)\n",
    "\n",
    "qtda_num = 10\n",
    "\n",
    "soma = numero01 + numero02 + numero03 +  numero04 + numero05 + numero06 + numero07 + numero08 + numero09 + numero10\n",
    "\n",
    "media = soma / qtda_num\n",
    "\n",
    "quadrado1 = (numero01 - media) **2\n",
    "quadrado2 = (numero02 - media) **2\n",
    "quadrado3 = (numero03 - media) **2\n",
    "quadrado4 = (numero04 - media) **2\n",
    "quadrado5 = (numero05 - media) **2\n",
    "quadrado6 = (numero06 - media) **2\n",
    "quadrado7 = (numero07 - media) **2\n",
    "quadrado8 = (numero08 - media) **2\n",
    "quadrado9 = (numero09 - media) **2\n",
    "quadrado10 = (numero10 - media) **2\n",
    "\n",
    "soma_quadrados = quadrado1 + quadrado2 + quadrado3 + quadrado4 + quadrado5 + quadrado6 + quadrado7 + quadrado8 +quadrado9 + quadrado10\n",
    "\n",
    "desvio_padrao = soma_quadrados / qtda_num\n",
    "\n",
    "raiz_quadrada = desvio_padrao ** 0.5\n",
    "\n",
    "print(\"O desvio padrao e \")\n",
    "print(raiz_quadrada)"
   ]
  },
  {
   "cell_type": "code",
   "execution_count": 8,
   "metadata": {},
   "outputs": [
    {
     "name": "stdout",
     "output_type": "stream",
     "text": [
      "0\n",
      "Comi Bis\n",
      "1\n",
      "Comi Bis\n",
      "2\n",
      "Comi Bis\n",
      "3\n",
      "Comi Bis\n",
      "4\n",
      "Comi Bis\n",
      "5\n",
      "Comi Bis\n",
      "6\n",
      "Comi Bis\n",
      "7\n",
      "Comi Bis\n",
      "8\n",
      "Comi Bis\n",
      "9\n",
      "Comi Bis\n"
     ]
    }
   ],
   "source": [
    "caixa_de_bis = [0,1,2,3,4,5,6,7,8,9]\n",
    "\n",
    "for bi in caixa_de_bis:\n",
    "    print (bi)\n",
    "    print(\"Comi Bis\")\n",
    "  "
   ]
  },
  {
   "cell_type": "code",
   "execution_count": 9,
   "metadata": {},
   "outputs": [
    {
     "data": {
      "text/plain": [
       "[0, 1, 2, 3, 4, 5, 6, 7, 8, 9]"
      ]
     },
     "execution_count": 9,
     "metadata": {},
     "output_type": "execute_result"
    }
   ],
   "source": [
    "list (range(10))"
   ]
  },
  {
   "cell_type": "code",
   "execution_count": 4,
   "metadata": {},
   "outputs": [
    {
     "name": "stdout",
     "output_type": "stream",
     "text": [
      "[20, 21, 433, 2044, 144, 21, 13, 33, 44, 768, 19, 20, 24, 12, 422, 44, 133, 4142, 14, 22, 3422, 44, 22, 34142, 51, 244, 11, 33, 14, 22, 13, 51, 12, 4133]\n"
     ]
    }
   ],
   "source": [
    "valor = [10, 11, 423, 2034, 134, 11, 3, 23, 34, 758, 9, 10, 14, 2, 412,34, 123, 4132, 4, 12, 3412, 34, 12, 34132, 41, 234, 1, 23,4, 12, 3, 41, 2, 4123]\n",
    "\n",
    "adicional = 10\n",
    "\n",
    "novos_valores = list()\n",
    "\n",
    "for item in valor:\n",
    "    soma = item + adicional\n",
    "    novos_valores.append(soma)\n",
    "print(novos_valores)"
   ]
  },
  {
   "cell_type": "code",
   "execution_count": 8,
   "metadata": {},
   "outputs": [
    {
     "name": "stdout",
     "output_type": "stream",
     "text": [
      "[20, 220, 211.5, 1017.0, 67.0, 220, 13, 460, 680, 379.0, 19, 20, 280, 12, 206.0, 680, 61.5, 2066.0, 14, 240, 1706.0, 680, 240, 17066.0, 820, 117.0, 11, 460, 14, 240, 13, 820, 12, 2061.5]\n"
     ]
    }
   ],
   "source": [
    "valor = [10, 11, 423, 2034, 134, 11, 3, 23, 34, 758, 9, 10, 14, 2, 412,34, 123, 4132, 4, 12, 3412, 34, 12, 34132, 41, 234, 1, 23,4, 12, 3, 41, 2, 4123]\n",
    "\n",
    "lista_novo_valor = []\n",
    "\n",
    "for item in valor:\n",
    "    if item <= 10:\n",
    "        novo_valor = item + 10\n",
    "        lista_novo_valor.append(novo_valor) \n",
    "    elif item <= 50:\n",
    "        novo_valor = item * 20\n",
    "        lista_novo_valor.append(novo_valor)\n",
    "    elif item <= 100:\n",
    "        novo_valor = item - 30\n",
    "        lista_novo_valor.append(novo_valor)\n",
    "    else:\n",
    "        novo_valor = item / 2\n",
    "        lista_novo_valor.append(novo_valor)\n",
    "print(lista_novo_valor)"
   ]
  },
  {
   "cell_type": "code",
   "execution_count": 16,
   "metadata": {},
   "outputs": [
    {
     "name": "stdout",
     "output_type": "stream",
     "text": [
      "Um valor foi removido da lista.(Mensagem #1)\n",
      "Um valor foi removido da lista.(Mensagem #2)\n",
      "Um valor foi removido da lista.(Mensagem #3)\n",
      "Um valor foi removido da lista.(Mensagem #4)\n",
      "Um valor foi removido da lista.(Mensagem #5)\n",
      "Um valor foi removido da lista.(Mensagem #6)\n",
      "Um valor foi removido da lista.(Mensagem #7)\n",
      "Um valor foi removido da lista.(Mensagem #8)\n",
      "Um valor foi removido da lista.(Mensagem #9)\n",
      "Um valor foi removido da lista.(Mensagem #10)\n",
      "Um valor foi removido da lista.(Mensagem #11)\n",
      "Um valor foi removido da lista.(Mensagem #12)\n",
      "Um valor foi removido da lista.(Mensagem #13)\n",
      "Um valor foi removido da lista.(Mensagem #14)\n",
      "Um valor foi removido da lista.(Mensagem #15)\n",
      "Um valor foi removido da lista.(Mensagem #16)\n",
      "Um valor foi removido da lista.(Mensagem #17)\n",
      "Um valor foi removido da lista.(Mensagem #18)\n",
      "Um valor foi removido da lista.(Mensagem #19)\n",
      "Um valor foi removido da lista.(Mensagem #20)\n",
      "Um valor foi removido da lista.(Mensagem #21)\n",
      "Um valor foi removido da lista.(Mensagem #22)\n",
      "Um valor foi removido da lista.(Mensagem #23)\n",
      "Um valor foi removido da lista.(Mensagem #24)\n",
      "Um valor foi removido da lista.(Mensagem #25)\n",
      "Um valor foi removido da lista.(Mensagem #26)\n",
      "Um valor foi removido da lista.(Mensagem #27)\n",
      "Um valor foi removido da lista.(Mensagem #28)\n",
      "Um valor foi removido da lista.(Mensagem #29)\n",
      "Um valor foi removido da lista.(Mensagem #30)\n",
      "Um valor foi removido da lista.(Mensagem #31)\n",
      "Um valor foi removido da lista.(Mensagem #32)\n",
      "Um valor foi removido da lista.(Mensagem #33)\n",
      "Um valor foi removido da lista.(Mensagem #34)\n",
      "Um valor foi removido da lista.(Mensagem #35)\n",
      "Um valor foi removido da lista.(Mensagem #36)\n",
      "Um valor foi removido da lista.(Mensagem #37)\n",
      "Um valor foi removido da lista.(Mensagem #38)\n",
      "Um valor foi removido da lista.(Mensagem #39)\n",
      "Um valor foi removido da lista.(Mensagem #40)\n",
      "Um valor foi removido da lista.(Mensagem #41)\n",
      "Um valor foi removido da lista.(Mensagem #42)\n",
      "Um valor foi removido da lista.(Mensagem #43)\n",
      "Um valor foi removido da lista.(Mensagem #44)\n",
      "Um valor foi removido da lista.(Mensagem #45)\n",
      "Um valor foi removido da lista.(Mensagem #46)\n",
      "Um valor foi removido da lista.(Mensagem #47)\n",
      "Um valor foi removido da lista.(Mensagem #48)\n",
      "Um valor foi removido da lista.(Mensagem #49)\n",
      "Um valor foi removido da lista.(Mensagem #50)\n",
      "Um valor foi removido da lista.(Mensagem #51)\n",
      "Um valor foi removido da lista.(Mensagem #52)\n"
     ]
    }
   ],
   "source": [
    "\n",
    "contagem = 52\n",
    "\n",
    "for item in range(1, contagem + 1):\n",
    "    print(f\"Um valor foi removido da lista.(Mensagem #{item})\")"
   ]
  }
 ],
 "metadata": {
  "kernelspec": {
   "display_name": "Python 3",
   "language": "python",
   "name": "python3"
  },
  "language_info": {
   "codemirror_mode": {
    "name": "ipython",
    "version": 3
   },
   "file_extension": ".py",
   "mimetype": "text/x-python",
   "name": "python",
   "nbconvert_exporter": "python",
   "pygments_lexer": "ipython3",
   "version": "3.11.9"
  }
 },
 "nbformat": 4,
 "nbformat_minor": 2
}
