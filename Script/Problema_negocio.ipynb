{
 "cells": [
  {
   "cell_type": "code",
   "execution_count": 2,
   "metadata": {},
   "outputs": [
    {
     "name": "stdout",
     "output_type": "stream",
     "text": [
      "O desconto diario eh:\n",
      "0.11\n"
     ]
    }
   ],
   "source": [
    "desconto_diario = 0.11\n",
    "\n",
    "print(\"O desconto diario eh:\")\n",
    "print(desconto_diario)"
   ]
  },
  {
   "cell_type": "code",
   "execution_count": 1,
   "metadata": {},
   "outputs": [
    {
     "name": "stdout",
     "output_type": "stream",
     "text": [
      "O desconto dario eh: \n",
      "[0.1, 0.2, 0.36, 0.41000000000000003, 0.5, 0.76, 0.95]\n"
     ]
    }
   ],
   "source": [
    "\n",
    "desconto_base = [0.1, 0.2 , 0.3, 0.4, 0.5 , 0.6, 0.7]\n",
    "\n",
    "previsao_pedidos = [400, 100, 3600, 4100, 4900, 7600, 9500]\n",
    "\n",
    "dias_semana = [1, 2, 3, 4, 5, 6, 7]\n",
    "\n",
    "previsao_base = [1000, 2000, 3000, 4000, 5000, 6000, 7000]\n",
    "\n",
    "\n",
    "desconto_diario = list()\n",
    "for dia in dias_semana:\n",
    "    if previsao_pedidos[dia-1] > previsao_base[dia-1]:\n",
    "       desconto_final = desconto_base[dia-1] + ((previsao_pedidos[dia-1] - previsao_base[dia-1]) / 100 ) / 100\n",
    "       desconto_diario.append(desconto_final)\n",
    "\n",
    "    else:\n",
    "        desconto_final = desconto_base[dia-1]\n",
    "        desconto_diario.append(desconto_final)\n",
    "print(\"O desconto dario eh: \")        \n",
    "print(desconto_diario)\n"
   ]
  },
  {
   "cell_type": "code",
   "execution_count": 13,
   "metadata": {},
   "outputs": [
    {
     "name": "stdout",
     "output_type": "stream",
     "text": [
      "[20, 21, 433, 2044, 144, 21, 13, 33, 44, 768, 19, 20, 24, 12, 422, 44, 133, 4142, 14, 22, 3422, 44, 22, 34142, 51, 244, 11, 33, 14, 22, 13, 51, 12, 4133]\n"
     ]
    }
   ],
   "source": []
  },
  {
   "cell_type": "code",
   "execution_count": null,
   "metadata": {},
   "outputs": [],
   "source": []
  }
 ],
 "metadata": {
  "kernelspec": {
   "display_name": "Python 3",
   "language": "python",
   "name": "python3"
  },
  "language_info": {
   "codemirror_mode": {
    "name": "ipython",
    "version": 3
   },
   "file_extension": ".py",
   "mimetype": "text/x-python",
   "name": "python",
   "nbconvert_exporter": "python",
   "pygments_lexer": "ipython3",
   "version": "3.11.9"
  }
 },
 "nbformat": 4,
 "nbformat_minor": 2
}
